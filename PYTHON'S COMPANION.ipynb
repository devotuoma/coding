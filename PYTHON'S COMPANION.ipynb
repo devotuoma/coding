{
 "cells": [
  {
   "cell_type": "code",
   "execution_count": 1,
   "id": "95fb4f02",
   "metadata": {},
   "outputs": [
    {
     "name": "stdout",
     "output_type": "stream",
     "text": [
      "hello world!\n"
     ]
    }
   ],
   "source": [
    "print(\"hello world!!\")"
   ]
  },
  {
   "cell_type": "markdown",
   "id": "14abb42f",
   "metadata": {},
   "source": [
    "#VARIABLES AND DATA TYPES IN PYTHON O"
   ]
  },
  {
   "cell_type": "code",
   "execution_count": 4,
   "id": "81d7279a",
   "metadata": {},
   "outputs": [
    {
     "name": "stdout",
     "output_type": "stream",
     "text": [
      "True False\n"
     ]
    }
   ],
   "source": [
    "bool_a = (12>= 4)\n",
    "bool_b = (12== 4*4)\n",
    "print(bool_a,bool_b)"
   ]
  },
  {
   "cell_type": "markdown",
   "id": "da79d209",
   "metadata": {},
   "source": [
    "#Number Data Types"
   ]
  },
  {
   "cell_type": "code",
   "execution_count": 7,
   "id": "ac2acdee",
   "metadata": {},
   "outputs": [
    {
     "name": "stdout",
     "output_type": "stream",
     "text": [
      "75\n"
     ]
    },
    {
     "data": {
      "text/plain": [
       "int"
      ]
     },
     "execution_count": 7,
     "metadata": {},
     "output_type": "execute_result"
    }
   ],
   "source": [
    "a = 75\n",
    "print(a)# the output is an integer data type\n",
    "type(a)"
   ]
  },
  {
   "cell_type": "code",
   "execution_count": 8,
   "id": "c2b8d707",
   "metadata": {},
   "outputs": [
    {
     "name": "stdout",
     "output_type": "stream",
     "text": [
      "79.8\n"
     ]
    },
    {
     "data": {
      "text/plain": [
       "float"
      ]
     },
     "execution_count": 8,
     "metadata": {},
     "output_type": "execute_result"
    }
   ],
   "source": [
    "b = 79.8\n",
    "print(b)# a floating number\n",
    "type(b)"
   ]
  },
  {
   "cell_type": "code",
   "execution_count": 9,
   "id": "10ae92a4",
   "metadata": {},
   "outputs": [
    {
     "name": "stdout",
     "output_type": "stream",
     "text": [
      "56000000.0\n"
     ]
    }
   ],
   "source": [
    "c = 5.6e7\n",
    "print(c)"
   ]
  },
  {
   "cell_type": "code",
   "execution_count": 10,
   "id": "184bbeaf",
   "metadata": {},
   "outputs": [
    {
     "name": "stdout",
     "output_type": "stream",
     "text": [
      "(3+2j)\n"
     ]
    }
   ],
   "source": [
    "abc = 2 + 4j\n",
    "xyz = 1 + -2j\n",
    "qrs = abc + xyz\n",
    "print(qrs)"
   ]
  },
  {
   "cell_type": "markdown",
   "id": "9866b7d4",
   "metadata": {},
   "source": [
    "#NUMBERS CONVERSION"
   ]
  },
  {
   "cell_type": "code",
   "execution_count": 11,
   "id": "c3e549f5",
   "metadata": {},
   "outputs": [
    {
     "data": {
      "text/plain": [
       "92"
      ]
     },
     "execution_count": 11,
     "metadata": {},
     "output_type": "execute_result"
    }
   ],
   "source": [
    "int(92.6)#float to int"
   ]
  },
  {
   "cell_type": "code",
   "execution_count": 12,
   "id": "cefec7fc",
   "metadata": {},
   "outputs": [
    {
     "data": {
      "text/plain": [
       "77.0"
      ]
     },
     "execution_count": 12,
     "metadata": {},
     "output_type": "execute_result"
    }
   ],
   "source": [
    "float(77)#int to float"
   ]
  },
  {
   "cell_type": "code",
   "execution_count": 13,
   "id": "93f29ad7",
   "metadata": {},
   "outputs": [
    {
     "data": {
      "text/plain": [
       "(55+0j)"
      ]
     },
     "execution_count": 13,
     "metadata": {},
     "output_type": "execute_result"
    }
   ],
   "source": [
    "complex(55)#integer to complex"
   ]
  },
  {
   "cell_type": "markdown",
   "id": "ef29755a",
   "metadata": {},
   "source": [
    "#Arithmetic Operators"
   ]
  },
  {
   "cell_type": "code",
   "execution_count": 14,
   "id": "3ba89530",
   "metadata": {},
   "outputs": [
    {
     "data": {
      "text/plain": [
       "18"
      ]
     },
     "execution_count": 14,
     "metadata": {},
     "output_type": "execute_result"
    }
   ],
   "source": [
    "2+16#addition"
   ]
  },
  {
   "cell_type": "code",
   "execution_count": 15,
   "id": "d3db46f4",
   "metadata": {},
   "outputs": [
    {
     "data": {
      "text/plain": [
       "81"
      ]
     },
     "execution_count": 15,
     "metadata": {},
     "output_type": "execute_result"
    }
   ],
   "source": [
    "9*9# multiplication operator"
   ]
  },
  {
   "cell_type": "code",
   "execution_count": 16,
   "id": "d5ab71e4",
   "metadata": {},
   "outputs": [
    {
     "data": {
      "text/plain": [
       "279936"
      ]
     },
     "execution_count": 16,
     "metadata": {},
     "output_type": "execute_result"
    }
   ],
   "source": [
    "6**7# exponent"
   ]
  },
  {
   "cell_type": "code",
   "execution_count": 17,
   "id": "a39c1b33",
   "metadata": {},
   "outputs": [
    {
     "data": {
      "text/plain": [
       "2.0"
      ]
     },
     "execution_count": 17,
     "metadata": {},
     "output_type": "execute_result"
    }
   ],
   "source": [
    "8/4# division"
   ]
  },
  {
   "cell_type": "code",
   "execution_count": 18,
   "id": "c79408a9",
   "metadata": {},
   "outputs": [
    {
     "data": {
      "text/plain": [
       "2"
      ]
     },
     "execution_count": 18,
     "metadata": {},
     "output_type": "execute_result"
    }
   ],
   "source": [
    "8//3#floor"
   ]
  },
  {
   "cell_type": "code",
   "execution_count": 20,
   "id": "7c7312a0",
   "metadata": {},
   "outputs": [
    {
     "data": {
      "text/plain": [
       "1"
      ]
     },
     "execution_count": 20,
     "metadata": {},
     "output_type": "execute_result"
    }
   ],
   "source": [
    "7%2#modulos"
   ]
  },
  {
   "cell_type": "code",
   "execution_count": 21,
   "id": "3823eeb7",
   "metadata": {},
   "outputs": [
    {
     "data": {
      "text/plain": [
       "4"
      ]
     },
     "execution_count": 21,
     "metadata": {},
     "output_type": "execute_result"
    }
   ],
   "source": [
    "12-8#subtraction section"
   ]
  },
  {
   "cell_type": "markdown",
   "id": "b8ee63c7",
   "metadata": {},
   "source": [
    "#Comparision Operators  Frequently Used"
   ]
  },
  {
   "cell_type": "code",
   "execution_count": 22,
   "id": "5f8e3e2d",
   "metadata": {},
   "outputs": [
    {
     "data": {
      "text/plain": [
       "False"
      ]
     },
     "execution_count": 22,
     "metadata": {},
     "output_type": "execute_result"
    }
   ],
   "source": [
    "15 == 3*2*2"
   ]
  },
  {
   "cell_type": "code",
   "execution_count": 23,
   "id": "de16e31c",
   "metadata": {},
   "outputs": [
    {
     "data": {
      "text/plain": [
       "True"
      ]
     },
     "execution_count": 23,
     "metadata": {},
     "output_type": "execute_result"
    }
   ],
   "source": [
    "4*2<=5*3+2"
   ]
  },
  {
   "cell_type": "code",
   "execution_count": 24,
   "id": "96ca7de3",
   "metadata": {},
   "outputs": [
    {
     "data": {
      "text/plain": [
       "False"
      ]
     },
     "execution_count": 24,
     "metadata": {},
     "output_type": "execute_result"
    }
   ],
   "source": [
    "15!=3*5"
   ]
  },
  {
   "cell_type": "code",
   "execution_count": 25,
   "id": "5ed19738",
   "metadata": {},
   "outputs": [
    {
     "data": {
      "text/plain": [
       "True"
      ]
     },
     "execution_count": 25,
     "metadata": {},
     "output_type": "execute_result"
    }
   ],
   "source": [
    "8*4>24"
   ]
  },
  {
   "cell_type": "code",
   "execution_count": 26,
   "id": "3b2d12b6",
   "metadata": {},
   "outputs": [
    {
     "data": {
      "text/plain": [
       "True"
      ]
     },
     "execution_count": 26,
     "metadata": {},
     "output_type": "execute_result"
    }
   ],
   "source": [
    "10<(2*12)"
   ]
  },
  {
   "cell_type": "code",
   "execution_count": 27,
   "id": "827f5b44",
   "metadata": {},
   "outputs": [
    {
     "data": {
      "text/plain": [
       "False"
      ]
     },
     "execution_count": 27,
     "metadata": {},
     "output_type": "execute_result"
    }
   ],
   "source": [
    "25>=(60*2)"
   ]
  },
  {
   "cell_type": "markdown",
   "id": "465bf264",
   "metadata": {},
   "source": [
    "#Assign  Operators"
   ]
  },
  {
   "cell_type": "code",
   "execution_count": 28,
   "id": "c11505e8",
   "metadata": {},
   "outputs": [
    {
     "data": {
      "text/plain": [
       "27"
      ]
     },
     "execution_count": 28,
     "metadata": {},
     "output_type": "execute_result"
    }
   ],
   "source": [
    "x = 3*9\n",
    "x"
   ]
  },
  {
   "cell_type": "code",
   "execution_count": 29,
   "id": "5582ed05",
   "metadata": {},
   "outputs": [
    {
     "name": "stdout",
     "output_type": "stream",
     "text": [
      "17\n"
     ]
    }
   ],
   "source": [
    "x = 12\n",
    "y = 5\n",
    "y+=12\n",
    "print(y)#add and +="
   ]
  },
  {
   "cell_type": "code",
   "execution_count": 32,
   "id": "f8cef627",
   "metadata": {},
   "outputs": [
    {
     "name": "stdout",
     "output_type": "stream",
     "text": [
      "2\n"
     ]
    }
   ],
   "source": [
    "p = 15\n",
    "q = 13\n",
    "p -= q\n",
    "print(p)#subtract and-="
   ]
  },
  {
   "cell_type": "code",
   "execution_count": 33,
   "id": "4e9a8827",
   "metadata": {},
   "outputs": [
    {
     "name": "stdout",
     "output_type": "stream",
     "text": [
      "45\n"
     ]
    }
   ],
   "source": [
    "x = 15\n",
    "y = 3\n",
    "x *=y\n",
    "print(x)"
   ]
  },
  {
   "cell_type": "code",
   "execution_count": 34,
   "id": "81674f8a",
   "metadata": {},
   "outputs": [
    {
     "name": "stdout",
     "output_type": "stream",
     "text": [
      "3.0\n"
     ]
    }
   ],
   "source": [
    "a = 15\n",
    "xyz = 45\n",
    "xyz/= a\n",
    "print(xyz)"
   ]
  },
  {
   "cell_type": "markdown",
   "id": "c4a53ba5",
   "metadata": {},
   "source": [
    "#CREATING A BILL CALCULATOR WHICH ILLUSTRATES HOW OPERATORS ARE OF IMPORTANCE IN PYTHON"
   ]
  },
  {
   "cell_type": "code",
   "execution_count": 35,
   "id": "1f8e9e21",
   "metadata": {},
   "outputs": [],
   "source": [
    "meal = 45\n",
    "sales_tax =7/100\n",
    "tip = 20/100\n",
    "meal += meal * sales_tax\n",
    "bill = meal + meal*tip    "
   ]
  },
  {
   "cell_type": "markdown",
   "id": "4cec3147",
   "metadata": {},
   "source": [
    "#BUILT-IN FUNCTIONS IN PYTHON"
   ]
  },
  {
   "cell_type": "code",
   "execution_count": 36,
   "id": "83a7e29f",
   "metadata": {},
   "outputs": [
    {
     "data": {
      "text/plain": [
       "9"
      ]
     },
     "execution_count": 36,
     "metadata": {},
     "output_type": "execute_result"
    }
   ],
   "source": [
    "abs(-9)"
   ]
  },
  {
   "cell_type": "code",
   "execution_count": 38,
   "id": "1c6744a2",
   "metadata": {},
   "outputs": [
    {
     "data": {
      "text/plain": [
       "93"
      ]
     },
     "execution_count": 38,
     "metadata": {},
     "output_type": "execute_result"
    }
   ],
   "source": [
    "max(30,34,56,21,20,93,45)"
   ]
  },
  {
   "cell_type": "code",
   "execution_count": 39,
   "id": "e71de5ff",
   "metadata": {},
   "outputs": [
    {
     "data": {
      "text/plain": [
       "-4"
      ]
     },
     "execution_count": 39,
     "metadata": {},
     "output_type": "execute_result"
    }
   ],
   "source": [
    "min(65,32,65,5,-4,0)"
   ]
  },
  {
   "cell_type": "code",
   "execution_count": 40,
   "id": "3693019b",
   "metadata": {},
   "outputs": [
    {
     "data": {
      "text/plain": [
       "9.46"
      ]
     },
     "execution_count": 40,
     "metadata": {},
     "output_type": "execute_result"
    }
   ],
   "source": [
    "round(9.4567,2)"
   ]
  },
  {
   "cell_type": "markdown",
   "id": "835fe536",
   "metadata": {},
   "source": [
    "#MATH METHODS"
   ]
  },
  {
   "cell_type": "code",
   "execution_count": 42,
   "id": "2392f726",
   "metadata": {},
   "outputs": [
    {
     "data": {
      "text/plain": [
       "99"
      ]
     },
     "execution_count": 42,
     "metadata": {},
     "output_type": "execute_result"
    }
   ],
   "source": [
    "import math\n",
    "math.ceil(98.75)"
   ]
  },
  {
   "cell_type": "code",
   "execution_count": 43,
   "id": "db3649b0",
   "metadata": {},
   "outputs": [
    {
     "data": {
      "text/plain": [
       "98"
      ]
     },
     "execution_count": 43,
     "metadata": {},
     "output_type": "execute_result"
    }
   ],
   "source": [
    "import math\n",
    "math.floor(98.01)"
   ]
  },
  {
   "cell_type": "code",
   "execution_count": 44,
   "id": "c5a5590f",
   "metadata": {},
   "outputs": [
    {
     "data": {
      "text/plain": [
       "13.0"
      ]
     },
     "execution_count": 44,
     "metadata": {},
     "output_type": "execute_result"
    }
   ],
   "source": [
    "math.fabs(-13)"
   ]
  },
  {
   "cell_type": "code",
   "execution_count": 45,
   "id": "12e59a62",
   "metadata": {},
   "outputs": [
    {
     "data": {
      "text/plain": [
       "15625.0"
      ]
     },
     "execution_count": 45,
     "metadata": {},
     "output_type": "execute_result"
    }
   ],
   "source": [
    "math.pow(5,6)"
   ]
  },
  {
   "cell_type": "code",
   "execution_count": 46,
   "id": "3f4887c6",
   "metadata": {},
   "outputs": [
    {
     "data": {
      "text/plain": [
       "10.0"
      ]
     },
     "execution_count": 46,
     "metadata": {},
     "output_type": "execute_result"
    }
   ],
   "source": [
    "math.sqrt(100)"
   ]
  },
  {
   "cell_type": "code",
   "execution_count": 47,
   "id": "a4cea988",
   "metadata": {},
   "outputs": [
    {
     "data": {
      "text/plain": [
       "4.6063694665635735"
      ]
     },
     "execution_count": 47,
     "metadata": {},
     "output_type": "execute_result"
    }
   ],
   "source": [
    "math.log(100.12)"
   ]
  },
  {
   "cell_type": "markdown",
   "id": "a8222d94",
   "metadata": {},
   "source": [
    "    #STRINGS"
   ]
  },
  {
   "cell_type": "code",
   "execution_count": 48,
   "id": "615a36f7",
   "metadata": {},
   "outputs": [
    {
     "name": "stdout",
     "output_type": "stream",
     "text": [
      "Python String\n"
     ]
    }
   ],
   "source": [
    "string_var = \"Python String\"\n",
    "print(string_var)"
   ]
  },
  {
   "cell_type": "code",
   "execution_count": 49,
   "id": "eaf4fa16",
   "metadata": {},
   "outputs": [
    {
     "data": {
      "text/plain": [
       "'t'"
      ]
     },
     "execution_count": 49,
     "metadata": {},
     "output_type": "execute_result"
    }
   ],
   "source": [
    "string_var[2]"
   ]
  },
  {
   "cell_type": "code",
   "execution_count": 50,
   "id": "81ba4a2c",
   "metadata": {},
   "outputs": [
    {
     "data": {
      "text/plain": [
       "'g'"
      ]
     },
     "execution_count": 50,
     "metadata": {},
     "output_type": "execute_result"
    }
   ],
   "source": [
    "string_var[-1]"
   ]
  },
  {
   "cell_type": "code",
   "execution_count": 51,
   "id": "8e8a7f88",
   "metadata": {},
   "outputs": [
    {
     "data": {
      "text/plain": [
       "13"
      ]
     },
     "execution_count": 51,
     "metadata": {},
     "output_type": "execute_result"
    }
   ],
   "source": [
    "len(string_var)"
   ]
  },
  {
   "cell_type": "markdown",
   "id": "a94cef6c",
   "metadata": {},
   "source": [
    "#slicing strings"
   ]
  },
  {
   "cell_type": "code",
   "execution_count": 52,
   "id": "cbb382b1",
   "metadata": {},
   "outputs": [
    {
     "data": {
      "text/plain": [
       "'thon Strin'"
      ]
     },
     "execution_count": 52,
     "metadata": {},
     "output_type": "execute_result"
    }
   ],
   "source": [
    "string_var[2:12]"
   ]
  },
  {
   "cell_type": "code",
   "execution_count": 53,
   "id": "666ca312",
   "metadata": {},
   "outputs": [
    {
     "name": "stdout",
     "output_type": "stream",
     "text": [
      "Programmer\n"
     ]
    }
   ],
   "source": [
    "b = \"Programmer\"\n",
    "print(b)"
   ]
  },
  {
   "cell_type": "code",
   "execution_count": 54,
   "id": "0c13eb53",
   "metadata": {},
   "outputs": [
    {
     "data": {
      "text/plain": [
       "'gramm'"
      ]
     },
     "execution_count": 54,
     "metadata": {},
     "output_type": "execute_result"
    }
   ],
   "source": [
    "b[3:8]"
   ]
  },
  {
   "cell_type": "markdown",
   "id": "6aa7d063",
   "metadata": {},
   "source": [
    "#strings concatenating"
   ]
  },
  {
   "cell_type": "code",
   "execution_count": 55,
   "id": "a47a80f0",
   "metadata": {},
   "outputs": [
    {
     "name": "stdout",
     "output_type": "stream",
     "text": [
      "An excellent programisworth watching.\n"
     ]
    }
   ],
   "source": [
    "string_one = \"program\"\n",
    "string_two = \"is\"\n",
    "string_three = \"worth watching\"\n",
    "print(\"An excellent \"+string_one[:7]+\"\"+string_two+\"\"+string_three+\".\")"
   ]
  },
  {
   "cell_type": "code",
   "execution_count": 56,
   "id": "d750ade9",
   "metadata": {},
   "outputs": [
    {
     "data": {
      "text/plain": [
       "'*<>**<>**<>**<>**<>*'"
      ]
     },
     "execution_count": 56,
     "metadata": {},
     "output_type": "execute_result"
    }
   ],
   "source": [
    "sign_string = \"*<>*\"\n",
    "sign_string *5"
   ]
  },
  {
   "cell_type": "markdown",
   "id": "541420b8",
   "metadata": {},
   "source": [
    "#upper() and lower() functions on a string "
   ]
  },
  {
   "cell_type": "code",
   "execution_count": 59,
   "id": "722c595a",
   "metadata": {},
   "outputs": [
    {
     "name": "stdout",
     "output_type": "stream",
     "text": [
      "EUROPE\n"
     ]
    }
   ],
   "source": [
    "smart_var = \"Europe\"\n",
    "print(smart_var.upper())"
   ]
  },
  {
   "cell_type": "code",
   "execution_count": 61,
   "id": "c7db69c6",
   "metadata": {},
   "outputs": [
    {
     "name": "stdout",
     "output_type": "stream",
     "text": [
      "europe\n"
     ]
    }
   ],
   "source": [
    "print(smart_var.lower())"
   ]
  },
  {
   "cell_type": "code",
   "execution_count": 62,
   "id": "5f4363da",
   "metadata": {},
   "outputs": [
    {
     "data": {
      "text/plain": [
       "'gARDEN'"
      ]
     },
     "execution_count": 62,
     "metadata": {},
     "output_type": "execute_result"
    }
   ],
   "source": [
    "a = 'Garden'\n",
    "a.swapcase()"
   ]
  },
  {
   "cell_type": "code",
   "execution_count": 64,
   "id": "a7fa2cf6",
   "metadata": {},
   "outputs": [
    {
     "data": {
      "text/plain": [
       "'Happy'"
      ]
     },
     "execution_count": 64,
     "metadata": {},
     "output_type": "execute_result"
    }
   ],
   "source": [
    "x = \"HAPPY\"\n",
    "x.title()"
   ]
  },
  {
   "cell_type": "code",
   "execution_count": 65,
   "id": "c39f7386",
   "metadata": {},
   "outputs": [
    {
     "data": {
      "text/plain": [
       "4"
      ]
     },
     "execution_count": 65,
     "metadata": {},
     "output_type": "execute_result"
    }
   ],
   "source": [
    "s = \"It is not what you think it is but it is good enough for this purpose.\"\n",
    "s.count('is')"
   ]
  },
  {
   "cell_type": "code",
   "execution_count": 66,
   "id": "ef7fa5c4",
   "metadata": {},
   "outputs": [
    {
     "data": {
      "text/plain": [
       "2"
      ]
     },
     "execution_count": 66,
     "metadata": {},
     "output_type": "execute_result"
    }
   ],
   "source": [
    "s = \"A string an immutable character or series of character.\"\n",
    "s.find(\"string\")"
   ]
  },
  {
   "cell_type": "code",
   "execution_count": 67,
   "id": "0d6685e1",
   "metadata": {},
   "outputs": [
    {
     "data": {
      "text/plain": [
       "True"
      ]
     },
     "execution_count": 67,
     "metadata": {},
     "output_type": "execute_result"
    }
   ],
   "source": [
    "s = (\"programs\")\n",
    "s.isalpha()"
   ]
  },
  {
   "cell_type": "code",
   "execution_count": 69,
   "id": "126dde7b",
   "metadata": {},
   "outputs": [
    {
     "data": {
      "text/plain": [
       "True"
      ]
     },
     "execution_count": 69,
     "metadata": {},
     "output_type": "execute_result"
    }
   ],
   "source": [
    "c = \"Programmer1\"\n",
    "c.isalnum()"
   ]
  },
  {
   "cell_type": "code",
   "execution_count": 70,
   "id": "e79d1e3b",
   "metadata": {},
   "outputs": [
    {
     "data": {
      "text/plain": [
       "False"
      ]
     },
     "execution_count": 70,
     "metadata": {},
     "output_type": "execute_result"
    }
   ],
   "source": [
    "p = \"4prayer\"\n",
    "p.isidentifier()"
   ]
  },
  {
   "cell_type": "code",
   "execution_count": 71,
   "id": "b3e4e14d",
   "metadata": {},
   "outputs": [
    {
     "name": "stdout",
     "output_type": "stream",
     "text": [
      "p**r**o**g**r**a**m**m**e**r\n"
     ]
    }
   ],
   "source": [
    "sep = \"**\";\n",
    "seq = (\"p\",\"r\",\"o\",\"g\",\"r\",\"a\",\"m\",\"m\",\"e\",\"r\")\n",
    "print(sep.join(seq))"
   ]
  },
  {
   "cell_type": "code",
   "execution_count": 72,
   "id": "0f1a83e1",
   "metadata": {},
   "outputs": [
    {
     "data": {
      "text/plain": [
       "'this is a string with too many whitespaces'"
      ]
     },
     "execution_count": 72,
     "metadata": {},
     "output_type": "execute_result"
    }
   ],
   "source": [
    "str = \"  this is a string with too many whitespaces\";\n",
    "str.lstrip()"
   ]
  },
  {
   "cell_type": "code",
   "execution_count": 73,
   "id": "fb07dd93",
   "metadata": {},
   "outputs": [
    {
     "data": {
      "text/plain": [
       "'This is an example of a string.'"
      ]
     },
     "execution_count": 73,
     "metadata": {},
     "output_type": "execute_result"
    }
   ],
   "source": [
    "s = \"  This is an example of a string. \"\n",
    "s.strip()"
   ]
  },
  {
   "cell_type": "code",
   "execution_count": 75,
   "id": "beffd037",
   "metadata": {},
   "outputs": [
    {
     "name": "stdout",
     "output_type": "stream",
     "text": [
      "I'm better off without these symbols.\n"
     ]
    }
   ],
   "source": [
    "y = \"****I'm better off without these symbols.******\"\n",
    "y.strip('*')\n",
    "print(y.strip('*'))"
   ]
  },
  {
   "cell_type": "code",
   "execution_count": 76,
   "id": "d600b725",
   "metadata": {},
   "outputs": [
    {
     "data": {
      "text/plain": [
       "17"
      ]
     },
     "execution_count": 76,
     "metadata": {},
     "output_type": "execute_result"
    }
   ],
   "source": [
    "str1 = \"Programming is a skill that can be learned by anyone.\"\n",
    "str2 =\"skill\"\n",
    "str1.rfind(str2)"
   ]
  },
  {
   "cell_type": "code",
   "execution_count": 77,
   "id": "ad68e31a",
   "metadata": {},
   "outputs": [
    {
     "data": {
      "text/plain": [
       "15"
      ]
     },
     "execution_count": 77,
     "metadata": {},
     "output_type": "execute_result"
    }
   ],
   "source": [
    "str1 = \"This is a good example of a practical programming examination.\"\n",
    "str2 = \"exam\"\n",
    "str1.index(str2)"
   ]
  },
  {
   "cell_type": "code",
   "execution_count": 79,
   "id": "cfcb16e6",
   "metadata": {},
   "outputs": [
    {
     "data": {
      "text/plain": [
       "39"
      ]
     },
     "execution_count": 79,
     "metadata": {},
     "output_type": "execute_result"
    }
   ],
   "source": [
    "str1 = \"Programming is a challenging and rewarding job.\"\n",
    "str2 = \"ing\"\n",
    "str1.rfind(str2)"
   ]
  },
  {
   "cell_type": "code",
   "execution_count": 80,
   "id": "e6bfee93",
   "metadata": {},
   "outputs": [
    {
     "data": {
      "text/plain": [
       "'00000A0356'"
      ]
     },
     "execution_count": 80,
     "metadata": {},
     "output_type": "execute_result"
    }
   ],
   "source": [
    "str = 'A0356'\n",
    "str.zfill(10)"
   ]
  },
  {
   "cell_type": "markdown",
   "id": "adc80fde",
   "metadata": {},
   "source": [
    "#OUTPUT FORMATTING"
   ]
  },
  {
   "cell_type": "code",
   "execution_count": 81,
   "id": "4270ecd1",
   "metadata": {},
   "outputs": [
    {
     "name": "stdout",
     "output_type": "stream",
     "text": [
      "Programming is a challenging and rewarding activity.\n"
     ]
    }
   ],
   "source": [
    "#Print function\n",
    "print('Programming is a challenging and rewarding activity.')"
   ]
  },
  {
   "cell_type": "code",
   "execution_count": 82,
   "id": "c38584f4",
   "metadata": {},
   "outputs": [
    {
     "name": "stdout",
     "output_type": "stream",
     "text": [
      "The value of a is 200\n"
     ]
    }
   ],
   "source": [
    "x = 200\n",
    "print('The value of a is',x)"
   ]
  },
  {
   "cell_type": "code",
   "execution_count": 83,
   "id": "18f180ac",
   "metadata": {},
   "outputs": [
    {
     "name": "stdout",
     "output_type": "stream",
     "text": [
      "216\n"
     ]
    }
   ],
   "source": [
    "y = 4*4\n",
    "xy = x + y\n",
    "print(xy)"
   ]
  },
  {
   "cell_type": "code",
   "execution_count": 84,
   "id": "77b470c5",
   "metadata": {},
   "outputs": [
    {
     "data": {
      "text/plain": [
       "'Programming is a challenging and rewarding activity.'"
      ]
     },
     "execution_count": 84,
     "metadata": {},
     "output_type": "execute_result"
    }
   ],
   "source": [
    "#str.format for formating strings\n",
    "a = 'Programming is a challenging and {} activity.'\n",
    "a.format('rewarding')"
   ]
  },
  {
   "cell_type": "code",
   "execution_count": 85,
   "id": "8af1c229",
   "metadata": {},
   "outputs": [
    {
     "data": {
      "text/plain": [
       "'This value of a is 50, b is 55, and c is 100.'"
      ]
     },
     "execution_count": 85,
     "metadata": {},
     "output_type": "execute_result"
    }
   ],
   "source": [
    "x = 'This value of a is {}, b is {}, and c is {}.'\n",
    "x.format('50','55','100')"
   ]
  },
  {
   "cell_type": "code",
   "execution_count": 86,
   "id": "fe4278ed",
   "metadata": {},
   "outputs": [
    {
     "name": "stdout",
     "output_type": "stream",
     "text": [
      "The value of a is 50,b is 55, and c is 100.\n"
     ]
    }
   ],
   "source": [
    "a = 50;b = 55;c = 100\n",
    "print('The value of a is {},b is {}, and c is {}.'.format(a,b,c))"
   ]
  },
  {
   "cell_type": "code",
   "execution_count": 87,
   "id": "352526d1",
   "metadata": {},
   "outputs": [
    {
     "name": "stdout",
     "output_type": "stream",
     "text": [
      "The value of c is100, a is 50,and b is 55.\n"
     ]
    }
   ],
   "source": [
    "a = 50;b = 55;c = 100\n",
    "print('The value of c is{2}, a is {0},and b is {1}.'.format(a,b,c))"
   ]
  },
  {
   "cell_type": "code",
   "execution_count": 88,
   "id": "fc95bab3",
   "metadata": {},
   "outputs": [
    {
     "name": "stdout",
     "output_type": "stream",
     "text": [
      "Item No.:     2546, Price per piece:   155.63\n"
     ]
    }
   ],
   "source": [
    "print('Item No.: %8d, Price per piece: %8.2f'%(2546, 155.6287))"
   ]
  },
  {
   "cell_type": "code",
   "execution_count": 89,
   "id": "3e5c6cf7",
   "metadata": {},
   "outputs": [
    {
     "data": {
      "text/plain": [
       "'Pepperoni and Cheese                  7.99'"
      ]
     },
     "execution_count": 89,
     "metadata": {},
     "output_type": "execute_result"
    }
   ],
   "source": [
    "#OTHER FORMATING OPTIONS\n",
    "# Left justification\n",
    "\"{0:<35s} {1:6.2f}\".format('Pepperoni and Cheese',7.99)"
   ]
  },
  {
   "cell_type": "code",
   "execution_count": 91,
   "id": "a5bbf85e",
   "metadata": {},
   "outputs": [
    {
     "name": "stdout",
     "output_type": "stream",
     "text": [
      "The price of Block Forest              is   4.99 while the price of Double Dutch              is   4.50\n"
     ]
    }
   ],
   "source": [
    "a = 'Block Forest'\n",
    "a1 = 4.99\n",
    "b = 'Double Dutch'\n",
    "b1 = 4.50\n",
    "print(\"The price of {0:<25s} is {1:6.2f} while the price of {2:<25s} is {3:6.2f}\".format(a,a1,b,b1))"
   ]
  },
  {
   "cell_type": "code",
   "execution_count": 92,
   "id": "931fca01",
   "metadata": {},
   "outputs": [
    {
     "data": {
      "text/plain": [
       "'     Ham and Cheese:    4.99'"
      ]
     },
     "execution_count": 92,
     "metadata": {},
     "output_type": "execute_result"
    }
   ],
   "source": [
    "#Right justification\n",
    "\"{0:>20s} {1:7.2f}\".format(\"Ham and Cheese:\", 4.99)"
   ]
  },
  {
   "cell_type": "code",
   "execution_count": 93,
   "id": "8862b6e9",
   "metadata": {},
   "outputs": [
    {
     "name": "stdout",
     "output_type": "stream",
     "text": [
      "The average price of a  slice   is  2.50.\n"
     ]
    }
   ],
   "source": [
    "#Center justification\n",
    "print(\"The average price of a {c:^8s} is {b:5.2f}.\".format(a='pizza',b=2.50,c='slice'))"
   ]
  },
  {
   "cell_type": "code",
   "execution_count": 94,
   "id": "d7a3ffef",
   "metadata": {},
   "outputs": [
    {
     "name": "stdout",
     "output_type": "stream",
     "text": [
      "The code for Elbow Catch is 00000012.\n"
     ]
    }
   ],
   "source": [
    "# Enables padding of leading zero(s) for numbers when placed before the with field.\n",
    "print(\"The code for Elbow Catch is {:08d}.\".format(12))"
   ]
  },
  {
   "cell_type": "code",
   "execution_count": 95,
   "id": "f7b06ae1",
   "metadata": {},
   "outputs": [
    {
     "name": "stdout",
     "output_type": "stream",
     "text": [
      "Elbow Catch has a stock of -0000008  pieces .\n"
     ]
    }
   ],
   "source": [
    "# forces assign placement before zero- padding\n",
    "print(\"Elbow Catch has a stock of {0:=08d} {1:^8s}.\".format(-8, 'pieces'))"
   ]
  },
  {
   "cell_type": "markdown",
   "id": "fa34d361",
   "metadata": {},
   "source": [
    "#LISTS"
   ]
  },
  {
   "cell_type": "code",
   "execution_count": 96,
   "id": "7024b63a",
   "metadata": {},
   "outputs": [
    {
     "name": "stdout",
     "output_type": "stream",
     "text": [
      "[0, 5, 10, 15, 50, 14]\n"
     ]
    }
   ],
   "source": [
    "num_list = [0,5,10,15,50,14]\n",
    "print(num_list)"
   ]
  },
  {
   "cell_type": "code",
   "execution_count": 97,
   "id": "dcf9667f",
   "metadata": {},
   "outputs": [
    {
     "data": {
      "text/plain": [
       "'Biology'"
      ]
     },
     "execution_count": 97,
     "metadata": {},
     "output_type": "execute_result"
    }
   ],
   "source": [
    "# Accessing Elements on a List\n",
    "school_list = [\"Biology\",\"English\",\"Chemistry\",\"Sociology\",\"Algebra\"]\n",
    "school_list[0]"
   ]
  },
  {
   "cell_type": "code",
   "execution_count": 98,
   "id": "a7468000",
   "metadata": {},
   "outputs": [
    {
     "data": {
      "text/plain": [
       "'Algebra'"
      ]
     },
     "execution_count": 98,
     "metadata": {},
     "output_type": "execute_result"
    }
   ],
   "source": [
    "school_list[4]"
   ]
  },
  {
   "cell_type": "code",
   "execution_count": 99,
   "id": "c20bb1b6",
   "metadata": {},
   "outputs": [
    {
     "data": {
      "text/plain": [
       "'b'"
      ]
     },
     "execution_count": 99,
     "metadata": {},
     "output_type": "execute_result"
    }
   ],
   "source": [
    "school_list[4][4]"
   ]
  },
  {
   "cell_type": "code",
   "execution_count": 100,
   "id": "bf6b4e88",
   "metadata": {},
   "outputs": [
    {
     "data": {
      "text/plain": [
       "'code'"
      ]
     },
     "execution_count": 100,
     "metadata": {},
     "output_type": "execute_result"
    }
   ],
   "source": [
    "# nested indexing\n",
    "nested_list = [\"code\",4,[1,3,5,7,9]]\n",
    "nested_list[0]"
   ]
  },
  {
   "cell_type": "code",
   "execution_count": 101,
   "id": "434729ea",
   "metadata": {},
   "outputs": [
    {
     "data": {
      "text/plain": [
       "'o'"
      ]
     },
     "execution_count": 101,
     "metadata": {},
     "output_type": "execute_result"
    }
   ],
   "source": [
    "nested_list[0][1]"
   ]
  },
  {
   "cell_type": "code",
   "execution_count": 102,
   "id": "3c0b6395",
   "metadata": {},
   "outputs": [
    {
     "data": {
      "text/plain": [
       "[1, 3, 5, 7, 9]"
      ]
     },
     "execution_count": 102,
     "metadata": {},
     "output_type": "execute_result"
    }
   ],
   "source": [
    "nested_list[2] "
   ]
  },
  {
   "cell_type": "code",
   "execution_count": 103,
   "id": "7f7cddf4",
   "metadata": {},
   "outputs": [
    {
     "data": {
      "text/plain": [
       "1"
      ]
     },
     "execution_count": 103,
     "metadata": {},
     "output_type": "execute_result"
    }
   ],
   "source": [
    "nested_list[2][0]"
   ]
  },
  {
   "cell_type": "code",
   "execution_count": 104,
   "id": "a4bd0dbe",
   "metadata": {},
   "outputs": [
    {
     "data": {
      "text/plain": [
       "7"
      ]
     },
     "execution_count": 104,
     "metadata": {},
     "output_type": "execute_result"
    }
   ],
   "source": [
    "nested_list[2][3]"
   ]
  },
  {
   "cell_type": "code",
   "execution_count": 105,
   "id": "fc7498b0",
   "metadata": {},
   "outputs": [
    {
     "data": {
      "text/plain": [
       "4"
      ]
     },
     "execution_count": 105,
     "metadata": {},
     "output_type": "execute_result"
    }
   ],
   "source": [
    "nested_list[1]"
   ]
  },
  {
   "cell_type": "code",
   "execution_count": 106,
   "id": "d0a2114d",
   "metadata": {},
   "outputs": [
    {
     "data": {
      "text/plain": [
       "'t'"
      ]
     },
     "execution_count": 106,
     "metadata": {},
     "output_type": "execute_result"
    }
   ],
   "source": [
    "# negative indexing \n",
    "quick_list = [\"s\",\"h\",\"o\",\"r\",\"t\",\"c\",\"u\",\"t\"]\n",
    "quick_list[-1]"
   ]
  },
  {
   "cell_type": "code",
   "execution_count": 107,
   "id": "e9dabf6a",
   "metadata": {},
   "outputs": [
    {
     "data": {
      "text/plain": [
       "['W', 'o', 'r', 'l', 'd']"
      ]
     },
     "execution_count": 107,
     "metadata": {},
     "output_type": "execute_result"
    }
   ],
   "source": [
    "#Slicing listst\n",
    "hw_list = ['H','e','l','l','o','W','o','r','l','d']\n",
    "hw_list[5:]"
   ]
  },
  {
   "cell_type": "code",
   "execution_count": 108,
   "id": "aeaf9c16",
   "metadata": {},
   "outputs": [
    {
     "data": {
      "text/plain": [
       "['l', 'o', 'W']"
      ]
     },
     "execution_count": 108,
     "metadata": {},
     "output_type": "execute_result"
    }
   ],
   "source": [
    "hw_list[3:6]"
   ]
  },
  {
   "cell_type": "code",
   "execution_count": 109,
   "id": "f8ae23be",
   "metadata": {},
   "outputs": [
    {
     "data": {
      "text/plain": [
       "['H', 'e', 'l', 'l', 'o', 'W']"
      ]
     },
     "execution_count": 109,
     "metadata": {},
     "output_type": "execute_result"
    }
   ],
   "source": [
    "hw_list[:-4]"
   ]
  },
  {
   "cell_type": "code",
   "execution_count": 110,
   "id": "f6aeff37",
   "metadata": {},
   "outputs": [
    {
     "data": {
      "text/plain": [
       "['H', 'e', 'l', 'l', 'o']"
      ]
     },
     "execution_count": 110,
     "metadata": {},
     "output_type": "execute_result"
    }
   ],
   "source": [
    "hw_list[0:5]"
   ]
  },
  {
   "cell_type": "code",
   "execution_count": 111,
   "id": "0db17d6a",
   "metadata": {},
   "outputs": [
    {
     "data": {
      "text/plain": [
       "['H', 'e', 'l', 'l', 'o', 'W', 'o', 'r', 'l', 'd']"
      ]
     },
     "execution_count": 111,
     "metadata": {},
     "output_type": "execute_result"
    }
   ],
   "source": [
    "hw_list[:]"
   ]
  },
  {
   "cell_type": "code",
   "execution_count": 112,
   "id": "61e818cc",
   "metadata": {},
   "outputs": [
    {
     "data": {
      "text/plain": [
       "[2, 4, 6, 8, 10, 12, 14]"
      ]
     },
     "execution_count": 112,
     "metadata": {},
     "output_type": "execute_result"
    }
   ],
   "source": [
    "    #Adding Elements of  a list\n",
    "    even = [2,4,6,8,10,12]\n",
    "    even.append(14)\n",
    "    even"
   ]
  },
  {
   "cell_type": "code",
   "execution_count": 114,
   "id": "f4547883",
   "metadata": {},
   "outputs": [
    {
     "data": {
      "text/plain": [
       "[2, 4, 6, 8, 10, 1, 16, 18, 20, 22]"
      ]
     },
     "execution_count": 114,
     "metadata": {},
     "output_type": "execute_result"
    }
   ],
   "source": [
    "even = [2,4,6,8,10,1]# we use append() and extend() to add elements of a list\n",
    "even.extend([16,18,20,22])\n",
    "even"
   ]
  },
  {
   "cell_type": "code",
   "execution_count": 115,
   "id": "c2030ade",
   "metadata": {},
   "outputs": [
    {
     "name": "stdout",
     "output_type": "stream",
     "text": [
      "[2, 3, 5, 7, 9, 12]\n"
     ]
    }
   ],
   "source": [
    "#Changing Elements of a list\n",
    "even = [1,3,5,7,9,12]\n",
    "even[0]= 2\n",
    "print(even)"
   ]
  },
  {
   "cell_type": "code",
   "execution_count": 116,
   "id": "594b0e6c",
   "metadata": {
    "scrolled": true
   },
   "outputs": [
    {
     "name": "stdout",
     "output_type": "stream",
     "text": [
      "[2, 4, 6, 8, 10, 12]\n"
     ]
    }
   ],
   "source": [
    "even[1:5]= [4,6,8,10]\n",
    "print(even)"
   ]
  },
  {
   "cell_type": "code",
   "execution_count": 117,
   "id": "18b4040e",
   "metadata": {},
   "outputs": [
    {
     "data": {
      "text/plain": [
       "['dog', 'cat', 'giraffe', 'bear', 'puppy', 'kitten', 'calf', 'cub']"
      ]
     },
     "execution_count": 117,
     "metadata": {},
     "output_type": "execute_result"
    }
   ],
   "source": [
    "#Concatenating and Repeating Lists\n",
    "animals = [\"dog\",\"cat\",\"giraffe\",\"bear\"]\n",
    "babies = [\"puppy\",\"kitten\",\"calf\",\"cub\"]\n",
    "animals + babies"
   ]
  },
  {
   "cell_type": "code",
   "execution_count": 118,
   "id": "f0aa0fd5",
   "metadata": {},
   "outputs": [
    {
     "data": {
      "text/plain": [
       "['a', 'e', 'i', 'o', 'u', 1, 2, 3, 4, 5]"
      ]
     },
     "execution_count": 118,
     "metadata": {},
     "output_type": "execute_result"
    }
   ],
   "source": [
    "vowels = ['a','e','i','o','u']\n",
    "vowels + [1,2,3,4,5]"
   ]
  },
  {
   "cell_type": "code",
   "execution_count": 119,
   "id": "af4c9e53",
   "metadata": {},
   "outputs": [
    {
     "data": {
      "text/plain": [
       "['a', 'b', 'c', 'a', 'b', 'c', 'a', 'b', 'c', 'a', 'b', 'c', 'a', 'b', 'c']"
      ]
     },
     "execution_count": 119,
     "metadata": {},
     "output_type": "execute_result"
    }
   ],
   "source": [
    "abc = ['a','b','c']*5\n",
    "abc"
   ]
  },
  {
   "cell_type": "code",
   "execution_count": 120,
   "id": "761e2081",
   "metadata": {},
   "outputs": [
    {
     "data": {
      "text/plain": [
       "[1, 2, 3, 4, 8, 9, 10]"
      ]
     },
     "execution_count": 120,
     "metadata": {},
     "output_type": "execute_result"
    }
   ],
   "source": [
    "#Inserting Items\n",
    "numbers = [1,2,4,8,9,10]\n",
    "numbers.insert(2,3)\n",
    "numbers"
   ]
  },
  {
   "cell_type": "code",
   "execution_count": 122,
   "id": "552fabb0",
   "metadata": {},
   "outputs": [
    {
     "data": {
      "text/plain": [
       "[1, 3, 5, 7, 9]"
      ]
     },
     "execution_count": 122,
     "metadata": {},
     "output_type": "execute_result"
    }
   ],
   "source": [
    "#Deleting Items\n",
    "numbers = [1,3,5,6.5,7,7.5,9]\n",
    "numbers.remove(6.5)\n",
    "numbers.remove(7.5)\n",
    "numbers"
   ]
  },
  {
   "cell_type": "code",
   "execution_count": 124,
   "id": "8c85c0f6",
   "metadata": {},
   "outputs": [
    {
     "data": {
      "text/plain": [
       "['apples', 'oranges', 'yellow', 'pear']"
      ]
     },
     "execution_count": 124,
     "metadata": {},
     "output_type": "execute_result"
    }
   ],
   "source": [
    "my_list = [\"apples\",\"oranges\",\"yellow\",\"peach\",\"pear\"]\n",
    "my_list.pop(3)\n",
    "my_list"
   ]
  },
  {
   "cell_type": "code",
   "execution_count": 125,
   "id": "4636911a",
   "metadata": {},
   "outputs": [
    {
     "data": {
      "text/plain": [
       "[]"
      ]
     },
     "execution_count": 125,
     "metadata": {},
     "output_type": "execute_result"
    }
   ],
   "source": [
    "my_list.clear()\n",
    "my_list"
   ]
  },
  {
   "cell_type": "code",
   "execution_count": 126,
   "id": "ef9515cc",
   "metadata": {},
   "outputs": [
    {
     "name": "stdout",
     "output_type": "stream",
     "text": [
      "[0, 1, 3, 4, 6.5, 7, 9.5, 15]\n"
     ]
    }
   ],
   "source": [
    "list_1 = [1,7,4,9.5,3,6.5,15,0]\n",
    "list_1.sort()\n",
    "print(list_1)"
   ]
  },
  {
   "cell_type": "code",
   "execution_count": 127,
   "id": "205d4db9",
   "metadata": {},
   "outputs": [
    {
     "name": "stdout",
     "output_type": "stream",
     "text": [
      "[15, 9.5, 7, 6.5, 4, 3, 1, 0]\n"
     ]
    }
   ],
   "source": [
    "list_1.reverse()\n",
    "print(list_1)"
   ]
  },
  {
   "cell_type": "code",
   "execution_count": 129,
   "id": "bb784e3f",
   "metadata": {},
   "outputs": [
    {
     "data": {
      "text/plain": [
       "3"
      ]
     },
     "execution_count": 129,
     "metadata": {},
     "output_type": "execute_result"
    }
   ],
   "source": [
    "my_numbers = [4,3,2,9,3,4,9,3]\n",
    "my_numbers.count(3)"
   ]
  },
  {
   "cell_type": "code",
   "execution_count": 130,
   "id": "7a6122cd",
   "metadata": {},
   "outputs": [
    {
     "data": {
      "text/plain": [
       "True"
      ]
     },
     "execution_count": 130,
     "metadata": {},
     "output_type": "execute_result"
    }
   ],
   "source": [
    "# testing for membership on a list\n",
    "my_numbers = [1,9,38,15,4,20,7,10]\n",
    "7 in my_numbers"
   ]
  },
  {
   "cell_type": "markdown",
   "id": "0d30896c",
   "metadata": {},
   "source": [
    "#Built-in functions with list"
   ]
  },
  {
   "cell_type": "code",
   "execution_count": 131,
   "id": "685c5db8",
   "metadata": {},
   "outputs": [
    {
     "data": {
      "text/plain": [
       "8"
      ]
     },
     "execution_count": 131,
     "metadata": {},
     "output_type": "execute_result"
    }
   ],
   "source": [
    "len(my_numbers)"
   ]
  },
  {
   "cell_type": "code",
   "execution_count": 132,
   "id": "3a03f328",
   "metadata": {},
   "outputs": [
    {
     "data": {
      "text/plain": [
       "25"
      ]
     },
     "execution_count": 132,
     "metadata": {},
     "output_type": "execute_result"
    }
   ],
   "source": [
    "list = [0,5,10,15,20,25]\n",
    "max(list)"
   ]
  },
  {
   "cell_type": "code",
   "execution_count": 133,
   "id": "771cb634",
   "metadata": {},
   "outputs": [
    {
     "data": {
      "text/plain": [
       "0"
      ]
     },
     "execution_count": 133,
     "metadata": {},
     "output_type": "execute_result"
    }
   ],
   "source": [
    "min(list)"
   ]
  },
  {
   "cell_type": "code",
   "execution_count": 134,
   "id": "cbba2086",
   "metadata": {},
   "outputs": [
    {
     "data": {
      "text/plain": [
       "75"
      ]
     },
     "execution_count": 134,
     "metadata": {},
     "output_type": "execute_result"
    }
   ],
   "source": [
    "sum(list)"
   ]
  },
  {
   "cell_type": "code",
   "execution_count": 135,
   "id": "c4cce9f9",
   "metadata": {},
   "outputs": [
    {
     "data": {
      "text/plain": [
       "[0, 5, 10, 15, 20, 25]"
      ]
     },
     "execution_count": 135,
     "metadata": {},
     "output_type": "execute_result"
    }
   ],
   "source": [
    "sorted(list)"
   ]
  },
  {
   "cell_type": "code",
   "execution_count": 137,
   "id": "69254dc6",
   "metadata": {},
   "outputs": [
    {
     "name": "stdout",
     "output_type": "stream",
     "text": [
      "[1, 3, 9, 27, 81, 243, 729, 2187, 6561, 19683, 59049, 177147, 531441, 1594323, 4782969]\n"
     ]
    }
   ],
   "source": [
    "#list comprehension\n",
    "pow3 = [3**y for y in range(15)]\n",
    "print(pow3)"
   ]
  },
  {
   "cell_type": "code",
   "execution_count": 138,
   "id": "a5af184c",
   "metadata": {},
   "outputs": [
    {
     "data": {
      "text/plain": [
       "[0, 2, 4, 6, 8, 10, 12, 14, 16]"
      ]
     },
     "execution_count": 138,
     "metadata": {},
     "output_type": "execute_result"
    }
   ],
   "source": [
    "even = [x for x in range(18) if x%2==0]\n",
    "even"
   ]
  },
  {
   "cell_type": "markdown",
   "id": "85bc6484",
   "metadata": {},
   "source": [
    "TUPLES"
   ]
  },
  {
   "cell_type": "code",
   "execution_count": 141,
   "id": "9564d427",
   "metadata": {},
   "outputs": [
    {
     "name": "stdout",
     "output_type": "stream",
     "text": [
      "(10, 9, 8, 7, 6, 5, 4, 3, 2, 1)\n"
     ]
    }
   ],
   "source": [
    "tup = (10,9,8,7,6,5,4,3,2,1)\n",
    "print(tup)"
   ]
  },
  {
   "cell_type": "code",
   "execution_count": 142,
   "id": "2b3a2c7f",
   "metadata": {},
   "outputs": [
    {
     "name": "stdout",
     "output_type": "stream",
     "text": [
      "('Python', (5, 15, 20), [2, 1, 4])\n"
     ]
    }
   ],
   "source": [
    "my_tuple = (\"Python\",(5,15,20),[2,1,4])\n",
    "print(my_tuple)"
   ]
  },
  {
   "cell_type": "code",
   "execution_count": 144,
   "id": "585fb887",
   "metadata": {},
   "outputs": [
    {
     "data": {
      "text/plain": [
       "'r'"
      ]
     },
     "execution_count": 144,
     "metadata": {},
     "output_type": "execute_result"
    }
   ],
   "source": [
    "#Accessing tuple elements\n",
    "my_tuple =('P','r','o','g','r','a','m','m','e','r')\n",
    "my_tuple[1]"
   ]
  },
  {
   "cell_type": "code",
   "execution_count": 145,
   "id": "824220d1",
   "metadata": {},
   "outputs": [
    {
     "data": {
      "text/plain": [
       "'a'"
      ]
     },
     "execution_count": 145,
     "metadata": {},
     "output_type": "execute_result"
    }
   ],
   "source": [
    "my_tuple[5]"
   ]
  },
  {
   "cell_type": "code",
   "execution_count": 147,
   "id": "64354b68",
   "metadata": {},
   "outputs": [
    {
     "data": {
      "text/plain": [
       "'m'"
      ]
     },
     "execution_count": 147,
     "metadata": {},
     "output_type": "execute_result"
    }
   ],
   "source": [
    "#Negative indexing\n",
    "my_tuple[-3]"
   ]
  },
  {
   "cell_type": "code",
   "execution_count": 148,
   "id": "a34a32d9",
   "metadata": {},
   "outputs": [
    {
     "data": {
      "text/plain": [
       "('t', 'a', 'b')"
      ]
     },
     "execution_count": 148,
     "metadata": {},
     "output_type": "execute_result"
    }
   ],
   "source": [
    "# Slicing a tuple\n",
    "new_tuple = ('i','m','m','u','t','a','b','l','e')\n",
    "new_tuple[4:7]"
   ]
  },
  {
   "cell_type": "code",
   "execution_count": 149,
   "id": "98773b6c",
   "metadata": {},
   "outputs": [
    {
     "data": {
      "text/plain": [
       "('m', 'u', 't', 'a', 'b', 'l', 'e')"
      ]
     },
     "execution_count": 149,
     "metadata": {},
     "output_type": "execute_result"
    }
   ],
   "source": [
    "new_tuple[2:]"
   ]
  },
  {
   "cell_type": "code",
   "execution_count": 150,
   "id": "c8b14fa5",
   "metadata": {},
   "outputs": [
    {
     "data": {
      "text/plain": [
       "('i', 'm', 'm', 'u')"
      ]
     },
     "execution_count": 150,
     "metadata": {},
     "output_type": "execute_result"
    }
   ],
   "source": [
    "new_tuple[:4]"
   ]
  },
  {
   "cell_type": "code",
   "execution_count": 151,
   "id": "bfd6fa02",
   "metadata": {},
   "outputs": [
    {
     "data": {
      "text/plain": [
       "('a', 5, 3.5, ['p', 'y', 'x', 'h', 'o', 'n'])"
      ]
     },
     "execution_count": 151,
     "metadata": {},
     "output_type": "execute_result"
    }
   ],
   "source": [
    "#Changing, Reassigning, and Deleting Tuples\n",
    "my_tuple = ('a',5,3.5,['p','y','t','h','o','n'])\n",
    "my_tuple[3][2] = 'x'\n",
    "my_tuple"
   ]
  },
  {
   "cell_type": "code",
   "execution_count": 1,
   "id": "37bb9e96",
   "metadata": {},
   "outputs": [],
   "source": [
    "my_tuple = ('c','o','d','e','r')"
   ]
  },
  {
   "cell_type": "code",
   "execution_count": 2,
   "id": "f95cd383",
   "metadata": {},
   "outputs": [
    {
     "data": {
      "text/plain": [
       "True"
      ]
     },
     "execution_count": 2,
     "metadata": {},
     "output_type": "execute_result"
    }
   ],
   "source": [
    "#Tuple membership test\n",
    "our_tuple = ('p','r','o','g','r','a','m','m','e','r')\n",
    "'g' in our_tuple"
   ]
  },
  {
   "cell_type": "code",
   "execution_count": 3,
   "id": "3be5165e",
   "metadata": {},
   "outputs": [
    {
     "data": {
      "text/plain": [
       "2"
      ]
     },
     "execution_count": 3,
     "metadata": {},
     "output_type": "execute_result"
    }
   ],
   "source": [
    "# Python tuple methods\n",
    "new_tuple = (\"p\",\"r\",\"o\",\"g\",\"r\",\"a\",\"m\",\"m\",\"e\",\"r\")\n",
    "new_tuple.count('m')"
   ]
  },
  {
   "cell_type": "code",
   "execution_count": 4,
   "id": "31fb18e9",
   "metadata": {},
   "outputs": [
    {
     "data": {
      "text/plain": [
       "6"
      ]
     },
     "execution_count": 4,
     "metadata": {},
     "output_type": "execute_result"
    }
   ],
   "source": [
    "new_tuple.index('m')"
   ]
  },
  {
   "cell_type": "code",
   "execution_count": 5,
   "id": "7ab444ea",
   "metadata": {},
   "outputs": [
    {
     "data": {
      "text/plain": [
       "5"
      ]
     },
     "execution_count": 5,
     "metadata": {},
     "output_type": "execute_result"
    }
   ],
   "source": [
    "tuple_one =('cat','dog','lion','elephant','zebra')\n",
    "len(tuple_one)"
   ]
  },
  {
   "cell_type": "code",
   "execution_count": 7,
   "id": "c4ff0da9",
   "metadata": {},
   "outputs": [
    {
     "data": {
      "text/plain": [
       "12"
      ]
     },
     "execution_count": 7,
     "metadata": {},
     "output_type": "execute_result"
    }
   ],
   "source": [
    "numbers_tuple = (1,5,7,9,10,12)\n",
    "max(numbers_tuple)"
   ]
  },
  {
   "cell_type": "code",
   "execution_count": 8,
   "id": "5c331d08",
   "metadata": {},
   "outputs": [
    {
     "data": {
      "text/plain": [
       "1"
      ]
     },
     "execution_count": 8,
     "metadata": {},
     "output_type": "execute_result"
    }
   ],
   "source": [
    "numbers_tuple = (1,5,7,9,10,12)\n",
    "min(numbers_tuple)"
   ]
  },
  {
   "cell_type": "code",
   "execution_count": 9,
   "id": "cc580c5c",
   "metadata": {},
   "outputs": [
    {
     "data": {
      "text/plain": [
       "['ant', 'bird', 'cat', 'dog', 'elephant']"
      ]
     },
     "execution_count": 9,
     "metadata": {},
     "output_type": "execute_result"
    }
   ],
   "source": [
    "my_tuple = ('dog','bird','ant','cat','elephant')\n",
    "sorted(my_tuple)"
   ]
  },
  {
   "cell_type": "code",
   "execution_count": 10,
   "id": "f1333365",
   "metadata": {},
   "outputs": [
    {
     "data": {
      "text/plain": [
       "105"
      ]
     },
     "execution_count": 10,
     "metadata": {},
     "output_type": "execute_result"
    }
   ],
   "source": [
    "my_tuple = (5,10,15,20,25,30)\n",
    "sum(my_tuple)"
   ]
  },
  {
   "cell_type": "code",
   "execution_count": 11,
   "id": "d3db3a73",
   "metadata": {},
   "outputs": [
    {
     "data": {
      "text/plain": [
       "('P', 'r', 'o', 'g', 'r', 'a', 'm', 'm', 'e', 'r')"
      ]
     },
     "execution_count": 11,
     "metadata": {},
     "output_type": "execute_result"
    }
   ],
   "source": [
    "tuple(\"Programmer\")"
   ]
  },
  {
   "cell_type": "code",
   "execution_count": 12,
   "id": "213706df",
   "metadata": {},
   "outputs": [
    {
     "data": {
      "text/plain": [
       "('H', 'e', 'l', 'l', 'o', ' ', 'W', 'o', 'r', 'l', 'd')"
      ]
     },
     "execution_count": 12,
     "metadata": {},
     "output_type": "execute_result"
    }
   ],
   "source": [
    "my_string = (\"Hello World\")\n",
    "tuple(my_string)"
   ]
  },
  {
   "cell_type": "code",
   "execution_count": 13,
   "id": "4f44e6b8",
   "metadata": {},
   "outputs": [
    {
     "data": {
      "text/plain": [
       "('Name', 'Area', 'subscription')"
      ]
     },
     "execution_count": 13,
     "metadata": {},
     "output_type": "execute_result"
    }
   ],
   "source": [
    "my_dict = {'Name':'Jack','Area':'Florida','subscription':'premium'}\n",
    "tuple(my_dict)"
   ]
  },
  {
   "cell_type": "code",
   "execution_count": 14,
   "id": "c8ca1f9b",
   "metadata": {},
   "outputs": [
    {
     "data": {
      "text/plain": [
       "('interest', 'rate', 'principal', 'discount', 'rollover')"
      ]
     },
     "execution_count": 14,
     "metadata": {},
     "output_type": "execute_result"
    }
   ],
   "source": [
    "my_list = ['interest','rate','principal','discount','rollover']\n",
    "tuple(my_list)"
   ]
  },
  {
   "cell_type": "code",
   "execution_count": 16,
   "id": "7fc5111b",
   "metadata": {},
   "outputs": [
    {
     "data": {
      "text/plain": [
       "<enumerate at 0x7fbd847c5fc0>"
      ]
     },
     "execution_count": 16,
     "metadata": {},
     "output_type": "execute_result"
    }
   ],
   "source": [
    "my_tuple = (1,3,5,7,9,11,13,15)\n",
    "enumerate(my_tuple)"
   ]
  },
  {
   "cell_type": "code",
   "execution_count": 18,
   "id": "95b36c09",
   "metadata": {},
   "outputs": [
    {
     "name": "stdout",
     "output_type": "stream",
     "text": [
      "I loveapple\n",
      "I lovepeach\n",
      "I lovepineapple\n",
      "I lovebanana\n",
      "I loveorange\n"
     ]
    }
   ],
   "source": [
    "for fruit in('apple','peach','pineapple','banana','orange'):\n",
    "    print(\"I love\" +  fruit)"
   ]
  },
  {
   "cell_type": "markdown",
   "id": "6fdbe56e",
   "metadata": {},
   "source": [
    "SETS"
   ]
  },
  {
   "cell_type": "code",
   "execution_count": 19,
   "id": "f778ae0f",
   "metadata": {},
   "outputs": [
    {
     "name": "stdout",
     "output_type": "stream",
     "text": [
      "{1, 4, 6, 8, 9, 10}\n"
     ]
    }
   ],
   "source": [
    "my_set = {1,4,6,8,9,10}\n",
    "print(my_set)"
   ]
  },
  {
   "cell_type": "code",
   "execution_count": 20,
   "id": "d0965891",
   "metadata": {},
   "outputs": [
    {
     "data": {
      "text/plain": [
       "{2, 4, 6, 8, 10, 12}"
      ]
     },
     "execution_count": 20,
     "metadata": {},
     "output_type": "execute_result"
    }
   ],
   "source": [
    "my_set = {2,4,6,8,10}\n",
    "my_set.add(12)\n",
    "my_set"
   ]
  },
  {
   "cell_type": "code",
   "execution_count": 21,
   "id": "8169e007",
   "metadata": {},
   "outputs": [
    {
     "data": {
      "text/plain": [
       "{2, 4, 6, 8, 10, 14, 16, 18, 20}"
      ]
     },
     "execution_count": 21,
     "metadata": {},
     "output_type": "execute_result"
    }
   ],
   "source": [
    "my_set = {2,4,6,8,10}\n",
    "my_set.update([14,16,18,20])\n",
    "my_set"
   ]
  },
  {
   "cell_type": "code",
   "execution_count": 24,
   "id": "6ce739d1",
   "metadata": {},
   "outputs": [
    {
     "data": {
      "text/plain": [
       "{'a', 'b', 'd', 'e', 'f', 'g'}"
      ]
     },
     "execution_count": 24,
     "metadata": {},
     "output_type": "execute_result"
    }
   ],
   "source": [
    "my_set = {'a','b','c','d','e','f','g'}\n",
    "my_set.discard('c')\n",
    "my_set"
   ]
  },
  {
   "cell_type": "code",
   "execution_count": 25,
   "id": "85bf83e7",
   "metadata": {},
   "outputs": [
    {
     "data": {
      "text/plain": [
       "{'a', 'd', 'e', 'f', 'g'}"
      ]
     },
     "execution_count": 25,
     "metadata": {},
     "output_type": "execute_result"
    }
   ],
   "source": [
    "my_set.discard('b')\n",
    "my_set"
   ]
  },
  {
   "cell_type": "code",
   "execution_count": 26,
   "id": "58f6215f",
   "metadata": {},
   "outputs": [
    {
     "data": {
      "text/plain": [
       "'o'"
      ]
     },
     "execution_count": 26,
     "metadata": {},
     "output_type": "execute_result"
    }
   ],
   "source": [
    "my_set = {'a','e','i','o','u'}\n",
    "my_set.pop()"
   ]
  },
  {
   "cell_type": "code",
   "execution_count": 1,
   "id": "8d79183c",
   "metadata": {},
   "outputs": [
    {
     "data": {
      "text/plain": [
       "{1, 2, 3, 4, 5, 7, 8, 9, 10, 11}"
      ]
     },
     "execution_count": 1,
     "metadata": {},
     "output_type": "execute_result"
    }
   ],
   "source": [
    "#Set operations\n",
    "#set union\n",
    "x = {1,2,3,4,5}\n",
    "y = {7,8,9,10,11}\n",
    "x|y"
   ]
  },
  {
   "cell_type": "code",
   "execution_count": 2,
   "id": "251cdf6d",
   "metadata": {},
   "outputs": [
    {
     "data": {
      "text/plain": [
       "{1, 2, 3, 4, 5, 7, 8, 9, 10, 11}"
      ]
     },
     "execution_count": 2,
     "metadata": {},
     "output_type": "execute_result"
    }
   ],
   "source": [
    "x.union(y)"
   ]
  },
  {
   "cell_type": "code",
   "execution_count": 3,
   "id": "d066ada6",
   "metadata": {},
   "outputs": [
    {
     "data": {
      "text/plain": [
       "{1, 2, 3, 4, 5, 7, 8, 9, 10, 11}"
      ]
     },
     "execution_count": 3,
     "metadata": {},
     "output_type": "execute_result"
    }
   ],
   "source": [
    "y.union(x)"
   ]
  },
  {
   "cell_type": "code",
   "execution_count": 4,
   "id": "62fc8a3e",
   "metadata": {},
   "outputs": [
    {
     "data": {
      "text/plain": [
       "set()"
      ]
     },
     "execution_count": 4,
     "metadata": {},
     "output_type": "execute_result"
    }
   ],
   "source": [
    "x&y"
   ]
  },
  {
   "cell_type": "code",
   "execution_count": 5,
   "id": "cd4468a3",
   "metadata": {},
   "outputs": [
    {
     "name": "stdout",
     "output_type": "stream",
     "text": [
      "{3, 5}\n"
     ]
    }
   ],
   "source": [
    "x = {1,3,4,5,6}\n",
    "y = {3,5,8,7,9}\n",
    "print(x&y)"
   ]
  },
  {
   "cell_type": "code",
   "execution_count": 6,
   "id": "ce5449ce",
   "metadata": {},
   "outputs": [
    {
     "data": {
      "text/plain": [
       "{7, 8, 9}"
      ]
     },
     "execution_count": 6,
     "metadata": {},
     "output_type": "execute_result"
    }
   ],
   "source": [
    "y - x"
   ]
  },
  {
   "cell_type": "code",
   "execution_count": 7,
   "id": "69847348",
   "metadata": {},
   "outputs": [
    {
     "data": {
      "text/plain": [
       "{1, 2, 7, 8}"
      ]
     },
     "execution_count": 7,
     "metadata": {},
     "output_type": "execute_result"
    }
   ],
   "source": [
    "a = {1,3,5,7,9}\n",
    "b = {2,3,5,8,9}\n",
    "a^b # set symmetric difference"
   ]
  },
  {
   "cell_type": "code",
   "execution_count": 8,
   "id": "484ed16d",
   "metadata": {},
   "outputs": [
    {
     "data": {
      "text/plain": [
       "True"
      ]
     },
     "execution_count": 8,
     "metadata": {},
     "output_type": "execute_result"
    }
   ],
   "source": [
    "my_set = ('land','sea','river','mountain')\n",
    "'land' in my_set"
   ]
  },
  {
   "cell_type": "code",
   "execution_count": 9,
   "id": "e2df3a31",
   "metadata": {},
   "outputs": [
    {
     "data": {
      "text/plain": [
       "4"
      ]
     },
     "execution_count": 9,
     "metadata": {},
     "output_type": "execute_result"
    }
   ],
   "source": [
    "#Built in Functions on Sets\n",
    "len(my_set)"
   ]
  },
  {
   "cell_type": "code",
   "execution_count": 10,
   "id": "745d2567",
   "metadata": {},
   "outputs": [
    {
     "data": {
      "text/plain": [
       "'sea'"
      ]
     },
     "execution_count": 10,
     "metadata": {},
     "output_type": "execute_result"
    }
   ],
   "source": [
    "max(my_set)"
   ]
  },
  {
   "cell_type": "code",
   "execution_count": 11,
   "id": "c69227bc",
   "metadata": {},
   "outputs": [
    {
     "data": {
      "text/plain": [
       "'land'"
      ]
     },
     "execution_count": 11,
     "metadata": {},
     "output_type": "execute_result"
    }
   ],
   "source": [
    "min(my_set)"
   ]
  },
  {
   "cell_type": "code",
   "execution_count": 12,
   "id": "b005bef8",
   "metadata": {},
   "outputs": [
    {
     "data": {
      "text/plain": [
       "['land', 'mountain', 'river', 'sea']"
      ]
     },
     "execution_count": 12,
     "metadata": {},
     "output_type": "execute_result"
    }
   ],
   "source": [
    "sorted(my_set)"
   ]
  },
  {
   "cell_type": "code",
   "execution_count": 13,
   "id": "3838d0ee",
   "metadata": {},
   "outputs": [
    {
     "data": {
      "text/plain": [
       "37"
      ]
     },
     "execution_count": 13,
     "metadata": {},
     "output_type": "execute_result"
    }
   ],
   "source": [
    "a = {1,3,6,8,9,10}\n",
    "sum(a)"
   ]
  },
  {
   "cell_type": "code",
   "execution_count": 15,
   "id": "65293adc",
   "metadata": {},
   "outputs": [
    {
     "data": {
      "text/plain": [
       "<enumerate at 0x7f8218448c00>"
      ]
     },
     "execution_count": 15,
     "metadata": {},
     "output_type": "execute_result"
    }
   ],
   "source": [
    "p = {'r','k','t','y'}\n",
    "enumerate(p)"
   ]
  },
  {
   "cell_type": "code",
   "execution_count": 19,
   "id": "c209409c",
   "metadata": {},
   "outputs": [
    {
     "name": "stdout",
     "output_type": "stream",
     "text": [
      "E\n",
      "g\n",
      "r\n",
      "i\n",
      "e\n",
      "n\n"
     ]
    }
   ],
   "source": [
    "for letter in set('Engineer'):\n",
    "    print(letter)"
   ]
  },
  {
   "cell_type": "code",
   "execution_count": 22,
   "id": "d303c678",
   "metadata": {},
   "outputs": [
    {
     "data": {
      "text/plain": [
       "frozenset({3, 4, 9})"
      ]
     },
     "execution_count": 22,
     "metadata": {},
     "output_type": "execute_result"
    }
   ],
   "source": [
    "x = frozenset([1,3,9,4])\n",
    "y = frozenset([5,6,1,10])\n",
    "x.difference(y)"
   ]
  },
  {
   "cell_type": "code",
   "execution_count": 23,
   "id": "ee011ba5",
   "metadata": {},
   "outputs": [
    {
     "data": {
      "text/plain": [
       "frozenset({1, 3, 4, 5, 6, 9, 10})"
      ]
     },
     "execution_count": 23,
     "metadata": {},
     "output_type": "execute_result"
    }
   ],
   "source": [
    "x|y"
   ]
  },
  {
   "cell_type": "markdown",
   "id": "cc042533",
   "metadata": {},
   "source": [
    "DICTIONARY"
   ]
  },
  {
   "cell_type": "code",
   "execution_count": 26,
   "id": "d3bf2bdb",
   "metadata": {},
   "outputs": [
    {
     "data": {
      "text/plain": [
       "'Mark'"
      ]
     },
     "execution_count": 26,
     "metadata": {},
     "output_type": "execute_result"
    }
   ],
   "source": [
    "my_dict = {'Name':'Mark','Age':'24','Ranking':'5th','Average':89.5}\n",
    "my_dict['Name']"
   ]
  },
  {
   "cell_type": "code",
   "execution_count": 27,
   "id": "b48f8c85",
   "metadata": {},
   "outputs": [
    {
     "data": {
      "text/plain": [
       "'5th'"
      ]
     },
     "execution_count": 27,
     "metadata": {},
     "output_type": "execute_result"
    }
   ],
   "source": [
    "my_dict.get('Ranking')"
   ]
  },
  {
   "cell_type": "code",
   "execution_count": 29,
   "id": "1b3e4164",
   "metadata": {},
   "outputs": [
    {
     "data": {
      "text/plain": [
       "{'Name': 'Mark',\n",
       " 'Age': '24',\n",
       " 'Ranking': '5th',\n",
       " 'Average': 89.5,\n",
       " 'Status': 'Regular'}"
      ]
     },
     "execution_count": 29,
     "metadata": {},
     "output_type": "execute_result"
    }
   ],
   "source": [
    "#Addition and Modification of dictionaries\n",
    "my_dict['Status']= 'Regular'\n",
    "my_dict"
   ]
  },
  {
   "cell_type": "code",
   "execution_count": 30,
   "id": "0fa26114",
   "metadata": {},
   "outputs": [
    {
     "name": "stdout",
     "output_type": "stream",
     "text": [
      "{'Name': 'Mark', 'Age': '24', 'Ranking': '3rd', 'Average': 89.5, 'Status': 'Regular'}\n"
     ]
    }
   ],
   "source": [
    "my_dict['Ranking']= '3rd'\n",
    "print(my_dict)"
   ]
  },
  {
   "cell_type": "code",
   "execution_count": 32,
   "id": "35b2b064",
   "metadata": {},
   "outputs": [
    {
     "data": {
      "text/plain": [
       "{'Ocean': 'Pacific', 'Sea': 'Baltic Sea', 'swamp': 'The Everglades'}"
      ]
     },
     "execution_count": 32,
     "metadata": {},
     "output_type": "execute_result"
    }
   ],
   "source": [
    "# Deleting elements in a dictionary\n",
    "my_dict = {'Ocean':'Pacific','Sea':'Baltic Sea','river':'Danube','swamp':'The Everglades'}\n",
    "my_dict.pop('river')\n",
    "my_dict"
   ]
  },
  {
   "cell_type": "code",
   "execution_count": null,
   "id": "544ddf1f",
   "metadata": {},
   "outputs": [],
   "source": [
    "#Other python dictionary methods\n"
   ]
  }
 ],
 "metadata": {
  "kernelspec": {
   "display_name": "Python 3 (ipykernel)",
   "language": "python",
   "name": "python3"
  },
  "language_info": {
   "codemirror_mode": {
    "name": "ipython",
    "version": 3
   },
   "file_extension": ".py",
   "mimetype": "text/x-python",
   "name": "python",
   "nbconvert_exporter": "python",
   "pygments_lexer": "ipython3",
   "version": "3.9.7"
  }
 },
 "nbformat": 4,
 "nbformat_minor": 5
}
