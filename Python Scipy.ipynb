{
 "cells": [
  {
   "cell_type": "code",
   "execution_count": 1,
   "id": "6db682dd",
   "metadata": {},
   "outputs": [],
   "source": [
    "from scipy import cluster"
   ]
  },
  {
   "cell_type": "code",
   "execution_count": 2,
   "id": "0faaff1e",
   "metadata": {
    "scrolled": true
   },
   "outputs": [
    {
     "name": "stdout",
     "output_type": "stream",
     "text": [
      "Help on package scipy.cluster in scipy:\n",
      "\n",
      "NAME\n",
      "    scipy.cluster\n",
      "\n",
      "DESCRIPTION\n",
      "    =========================================\n",
      "    Clustering package (:mod:`scipy.cluster`)\n",
      "    =========================================\n",
      "    \n",
      "    .. currentmodule:: scipy.cluster\n",
      "    \n",
      "    :mod:`scipy.cluster.vq`\n",
      "    \n",
      "    Clustering algorithms are useful in information theory, target detection,\n",
      "    communications, compression, and other areas. The `vq` module only\n",
      "    supports vector quantization and the k-means algorithms.\n",
      "    \n",
      "    :mod:`scipy.cluster.hierarchy`\n",
      "    \n",
      "    The `hierarchy` module provides functions for hierarchical and\n",
      "    agglomerative clustering.  Its features include generating hierarchical\n",
      "    clusters from distance matrices,\n",
      "    calculating statistics on clusters, cutting linkages\n",
      "    to generate flat clusters, and visualizing clusters with dendrograms.\n",
      "\n",
      "PACKAGE CONTENTS\n",
      "    _hierarchy\n",
      "    _optimal_leaf_ordering\n",
      "    _vq\n",
      "    hierarchy\n",
      "    setup\n",
      "    tests (package)\n",
      "    vq\n",
      "\n",
      "DATA\n",
      "    __all__ = ['vq', 'hierarchy']\n",
      "\n",
      "FILE\n",
      "    /home/dev/anaconda3/lib/python3.9/site-packages/scipy/cluster/__init__.py\n",
      "\n",
      "\n"
     ]
    }
   ],
   "source": [
    "help(cluster)"
   ]
  },
  {
   "cell_type": "code",
   "execution_count": 3,
   "id": "18263a44",
   "metadata": {},
   "outputs": [],
   "source": [
    "quit()"
   ]
  },
  {
   "cell_type": "code",
   "execution_count": 1,
   "id": "273bafa5",
   "metadata": {},
   "outputs": [],
   "source": [
    "from scipy import cluster"
   ]
  },
  {
   "cell_type": "markdown",
   "id": "e0d67363",
   "metadata": {},
   "source": [
    "#Special Functions "
   ]
  },
  {
   "cell_type": "code",
   "execution_count": 3,
   "id": "00d05aa3",
   "metadata": {},
   "outputs": [],
   "source": [
    "from scipy import special"
   ]
  },
  {
   "cell_type": "code",
   "execution_count": 4,
   "id": "2919c36e",
   "metadata": {},
   "outputs": [
    {
     "name": "stdout",
     "output_type": "stream",
     "text": [
      "100.0\n"
     ]
    }
   ],
   "source": [
    "a = special.exp10(2)\n",
    "print(a)"
   ]
  },
  {
   "cell_type": "code",
   "execution_count": 7,
   "id": "f448b516",
   "metadata": {},
   "outputs": [
    {
     "name": "stdout",
     "output_type": "stream",
     "text": [
      "-0.0\n"
     ]
    }
   ],
   "source": [
    "c = special.cosdg(90)\n",
    "print(c)"
   ]
  },
  {
   "cell_type": "markdown",
   "id": "624d72bb",
   "metadata": {},
   "source": [
    " # Integrating Functions"
   ]
  },
  {
   "cell_type": "code",
   "execution_count": 8,
   "id": "e99d8200",
   "metadata": {},
   "outputs": [],
   "source": [
    "from scipy import integrate"
   ]
  },
  {
   "cell_type": "code",
   "execution_count": 9,
   "id": "3b24ee2b",
   "metadata": {},
   "outputs": [
    {
     "data": {
      "text/plain": [
       "(-0.0, 4.405142707569776e-14)"
      ]
     },
     "execution_count": 9,
     "metadata": {},
     "output_type": "execute_result"
    }
   ],
   "source": [
    "e = lambda x,y:x*y**2\n",
    "f = lambda x:1\n",
    "g = lambda x:-1\n",
    "integrate.dblquad(e,0,2,f,g)"
   ]
  },
  {
   "cell_type": "markdown",
   "id": "d68fe4ea",
   "metadata": {},
   "source": [
    "# fourier transformations"
   ]
  },
  {
   "cell_type": "code",
   "execution_count": 13,
   "id": "2108aa9a",
   "metadata": {},
   "outputs": [
    {
     "name": "stdout",
     "output_type": "stream",
     "text": [
      "[10.-0.j -2.+2.j -2.-0.j -2.-2.j]\n"
     ]
    }
   ],
   "source": [
    "from scipy.fftpack import fft,ifft\n",
    "import numpy as np\n",
    "x=np.array([1,2,3,4])\n",
    "y=fft(x)\n",
    "print(y)"
   ]
  },
  {
   "cell_type": "markdown",
   "id": "0e1bb0ef",
   "metadata": {},
   "source": [
    "# Linear Algebra"
   ]
  },
  {
   "cell_type": "code",
   "execution_count": 14,
   "id": "9a2b18c9",
   "metadata": {},
   "outputs": [
    {
     "name": "stdout",
     "output_type": "stream",
     "text": [
      "[[-2.   1. ]\n",
      " [ 1.5 -0.5]]\n"
     ]
    }
   ],
   "source": [
    "from scipy import linalg\n",
    "a = np.array([[1,2],[3,4]])\n",
    "b=linalg.inv(a)\n",
    "print(b)"
   ]
  },
  {
   "cell_type": "markdown",
   "id": "9d574537",
   "metadata": {},
   "source": [
    "# Interpolation Functions"
   ]
  },
  {
   "cell_type": "code",
   "execution_count": 17,
   "id": "3553dc66",
   "metadata": {
    "scrolled": false
   },
   "outputs": [
    {
     "data": {
      "image/png": "[encoded data removed]",
      "text/plain": [
       "<Figure size 432x288 with 1 Axes>"
      ]
     },
     "metadata": {
      "needs_background": "light"
     },
     "output_type": "display_data"
    }
   ],
   "source": [
    "import matplotlib.pyplot as plt\n",
    "from scipy import interpolate\n",
    "x = np.arange(5, 20)\n",
    "y = np.exp(x/3.0)\n",
    "f = interpolate.interp1d(x, y)\n",
    "x1 = np.arange(6, 12)\n",
    "y1 = f(x1) # use interpolation function returned by 'interpld'\n",
    "plt.plot(x, y, 'o', x1, y1, '--')\n",
    "plt.show()"
   ]
  },
  {
   "cell_type": "code",
   "execution_count": null,
   "id": "da19dbeb",
   "metadata": {},
   "outputs": [],
   "source": []
  }
 ],
 "metadata": {
  "kernelspec": {
   "display_name": "Python 3 (ipykernel)",
   "language": "python",
   "name": "python3"
  },
  "language_info": {
   "codemirror_mode": {
    "name": "ipython",
    "version": 3
   },
   "file_extension": ".py",
   "mimetype": "text/x-python",
   "name": "python",
   "nbconvert_exporter": "python",
   "pygments_lexer": "ipython3",
   "version": "3.9.7"
  }
 },
 "nbformat": 4,
 "nbformat_minor": 5
}
