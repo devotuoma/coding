{
 "cells": [
  {
   "cell_type": "code",
   "execution_count": 1,
   "id": "ff3619b0",
   "metadata": {},
   "outputs": [
    {
     "name": "stdout",
     "output_type": "stream",
     "text": [
      "Enter Marks82\n",
      "A- Grade\n"
     ]
    }
   ],
   "source": [
    "a = int(input(\"Enter Marks\"))\n",
    "if a >=85:\n",
    "    print(\"A Grade\")\n",
    "elif (a < 85) and (a >= 80):\n",
    "    print(\"A- Grade\")\n",
    "elif a < 80 and a >= 75:\n",
    "    print(\"B Grade\")\n",
    "elif a < 75 and a >= 70:\n",
    "    print(\"B- Grade\")\n",
    "else:\n",
    "    print(\"Below Average\")"
   ]
  },
  {
   "cell_type": "code",
   "execution_count": 2,
   "id": "f3415b9d",
   "metadata": {},
   "outputs": [
    {
     "name": "stdout",
     "output_type": "stream",
     "text": [
      "Else part\n"
     ]
    }
   ],
   "source": [
    "a = 3\n",
    "if a>10:\n",
    "    print(\">10\")\n",
    "elif not(a>10):\n",
    "    print(\"Else part\") "
   ]
  },
  {
   "cell_type": "code",
   "execution_count": 3,
   "id": "b8fffc0c",
   "metadata": {},
   "outputs": [
    {
     "data": {
      "text/plain": [
       "7"
      ]
     },
     "execution_count": 3,
     "metadata": {},
     "output_type": "execute_result"
    }
   ],
   "source": [
    "7"
   ]
  },
  {
   "cell_type": "markdown",
   "id": "e72f0e1d",
   "metadata": {},
   "source": [
    "#Nested If"
   ]
  },
  {
   "cell_type": "code",
   "execution_count": 4,
   "id": "392e4cf2",
   "metadata": {},
   "outputs": [
    {
     "name": "stdout",
     "output_type": "stream",
     "text": [
      "12\n",
      "Inside the top if\n",
      "<=20\n",
      "Inside the else part of nested if\n",
      "Outside all ifs\n"
     ]
    }
   ],
   "source": [
    "a = int(input())\n",
    "if a>10:\n",
    "    print(\"Inside the top if\")\n",
    "    if a>20:\n",
    "        print(\">20\")\n",
    "        print(\"Inside the nested if\")\n",
    "    else:\n",
    "        print(\"<=20\")\n",
    "        print(\"Inside the else part of nested if\")\n",
    "print(\"Outside all ifs\") \n",
    "\n",
    "    "
   ]
  },
  {
   "cell_type": "markdown",
   "id": "a19cc5c3",
   "metadata": {},
   "source": [
    "#LOOPS IN  PYTHON"
   ]
  },
  {
   "cell_type": "code",
   "execution_count": 5,
   "id": "58b862f0",
   "metadata": {},
   "outputs": [
    {
     "name": "stdout",
     "output_type": "stream",
     "text": [
      "9\n",
      "1\n",
      "Ths is iteration number : 1\n",
      "4\n",
      "Ths is iteration number : 2\n",
      "9\n",
      "Ths is iteration number : 3\n",
      "16\n",
      "Ths is iteration number : 4\n",
      "25\n",
      "Ths is iteration number : 5\n",
      "36\n",
      "Ths is iteration number : 6\n",
      "49\n",
      "Ths is iteration number : 7\n",
      "64\n",
      "Ths is iteration number : 8\n",
      "Loope done\n"
     ]
    }
   ],
   "source": [
    "n = int(input())\n",
    "i = 1\n",
    "while i < n:\n",
    "    print(i**2)\n",
    "    print(\"Ths is iteration number :\", i)\n",
    "    i+=1\n",
    "print(\"Loope done\")"
   ]
  },
  {
   "cell_type": "code",
   "execution_count": 7,
   "id": "4edf53d4",
   "metadata": {},
   "outputs": [
    {
     "name": "stdout",
     "output_type": "stream",
     "text": [
      "1\n",
      "2\n",
      "3\n",
      "4\n",
      "5\n",
      "6\n",
      "7\n",
      "8\n",
      "9\n",
      "10\n",
      "[0, 1, 4, 9, 16, 25, 36, 49, 64, 81]\n"
     ]
    }
   ],
   "source": [
    "P = []\n",
    "for i in range(10):\n",
    "    print(i+1)\n",
    "    P.append(i**2)\n",
    "print(P)"
   ]
  },
  {
   "cell_type": "code",
   "execution_count": 9,
   "id": "51cf4e93",
   "metadata": {},
   "outputs": [
    {
     "name": "stdout",
     "output_type": "stream",
     "text": [
      "4.9\n",
      "apple\n",
      "cherry\n",
      "Loop terminates with success\n",
      "Out side the loop\n"
     ]
    }
   ],
   "source": [
    "s = {\"apple\",4.9,\"cherry\"}\n",
    "for x in s:\n",
    "    print(x)\n",
    "else:\n",
    "    print(\"Loop terminates with success\")\n",
    "print(\"Out side the loop\")"
   ]
  },
  {
   "cell_type": "code",
   "execution_count": 10,
   "id": "d140c417",
   "metadata": {},
   "outputs": [
    {
     "name": "stdout",
     "output_type": "stream",
     "text": [
      "A 10\n",
      "B 19\n",
      "C abc\n"
     ]
    }
   ],
   "source": [
    "D = {\"A\":10,\"B\":19,\"C\":\"abc\"}\n",
    "for x in D:\n",
    "    print(x,D[x])"
   ]
  },
  {
   "cell_type": "code",
   "execution_count": 11,
   "id": "21e182b1",
   "metadata": {},
   "outputs": [
    {
     "name": "stdout",
     "output_type": "stream",
     "text": [
      "-5\n"
     ]
    }
   ],
   "source": [
    "L = [1,2,4,-5,7,9,3,2]\n",
    "m = L[0]\n",
    "for i in L:\n",
    "    if i<m:\n",
    "        m = i\n",
    "print(m)"
   ]
  },
  {
   "cell_type": "code",
   "execution_count": 1,
   "id": "cbd74a97",
   "metadata": {},
   "outputs": [
    {
     "name": "stdout",
     "output_type": "stream",
     "text": [
      "Hello World\n"
     ]
    }
   ],
   "source": [
    "print(\"Hello World\")"
   ]
  },
  {
   "cell_type": "code",
   "execution_count": 2,
   "id": "d2fe3133",
   "metadata": {},
   "outputs": [
    {
     "data": {
      "text/plain": [
       "45"
      ]
     },
     "execution_count": 2,
     "metadata": {},
     "output_type": "execute_result"
    }
   ],
   "source": [
    "5*9"
   ]
  },
  {
   "cell_type": "markdown",
   "id": "6dfd6c9c",
   "metadata": {},
   "source": [
    "  #Markdown"
   ]
  },
  {
   "cell_type": "markdown",
   "id": "6684c0b7",
   "metadata": {},
   "source": [
    "# VARIABLES"
   ]
  },
  {
   "cell_type": "code",
   "execution_count": 3,
   "id": "3ec21150",
   "metadata": {},
   "outputs": [],
   "source": [
    "x = 3"
   ]
  },
  {
   "cell_type": "code",
   "execution_count": 4,
   "id": "03f270c4",
   "metadata": {},
   "outputs": [
    {
     "name": "stdout",
     "output_type": "stream",
     "text": [
      "Variable   Type    Data/Info\n",
      "----------------------------\n",
      "x          int     3\n"
     ]
    }
   ],
   "source": [
    "%whos"
   ]
  },
  {
   "cell_type": "code",
   "execution_count": 5,
   "id": "f79ae9d1",
   "metadata": {},
   "outputs": [
    {
     "name": "stdout",
     "output_type": "stream",
     "text": [
      "<class 'int'>\n"
     ]
    }
   ],
   "source": [
    "print(type(x)) "
   ]
  },
  {
   "cell_type": "code",
   "execution_count": 8,
   "id": "5ae507c5",
   "metadata": {},
   "outputs": [],
   "source": [
    "a,b,c,d,f = 3,5,4.7,9,10"
   ]
  },
  {
   "cell_type": "code",
   "execution_count": 9,
   "id": "10f38775",
   "metadata": {},
   "outputs": [
    {
     "name": "stdout",
     "output_type": "stream",
     "text": [
      "Variable   Type     Data/Info\n",
      "-----------------------------\n",
      "a          int      3\n",
      "b          int      5\n",
      "c          float    4.7\n",
      "d          int      9\n",
      "f          int      10\n",
      "x          int      3\n"
     ]
    }
   ],
   "source": [
    "%whos"
   ]
  },
  {
   "cell_type": "markdown",
   "id": "ccf944e9",
   "metadata": {},
   "source": [
    "#OPERATORS"
   ]
  },
  {
   "cell_type": "code",
   "execution_count": 10,
   "id": "1e766b07",
   "metadata": {},
   "outputs": [],
   "source": [
    "sumOfaAndb = a+b"
   ]
  },
  {
   "cell_type": "code",
   "execution_count": 11,
   "id": "20361a55",
   "metadata": {},
   "outputs": [
    {
     "name": "stdout",
     "output_type": "stream",
     "text": [
      "8\n"
     ]
    }
   ],
   "source": [
    "print(sumOfaAndb)"
   ]
  },
  {
   "cell_type": "code",
   "execution_count": 12,
   "id": "03978b10",
   "metadata": {},
   "outputs": [],
   "source": [
    "v = ((a+d)**3)/4"
   ]
  },
  {
   "cell_type": "code",
   "execution_count": 13,
   "id": "3ef93112",
   "metadata": {},
   "outputs": [
    {
     "name": "stdout",
     "output_type": "stream",
     "text": [
      "432.0\n"
     ]
    }
   ],
   "source": [
    "print(v)"
   ]
  },
  {
   "cell_type": "markdown",
   "id": "fd52350a",
   "metadata": {},
   "source": [
    "#BOOLIANS AND COMPARISONS"
   ]
  },
  {
   "cell_type": "code",
   "execution_count": 14,
   "id": "c82731da",
   "metadata": {},
   "outputs": [],
   "source": [
    "a = True\n",
    "b = True\n",
    "c = False"
   ]
  },
  {
   "cell_type": "code",
   "execution_count": 15,
   "id": "46eeb5d8",
   "metadata": {},
   "outputs": [
    {
     "name": "stdout",
     "output_type": "stream",
     "text": [
      "Variable     Type     Data/Info\n",
      "-------------------------------\n",
      "a            bool     True\n",
      "b            bool     True\n",
      "c            bool     False\n",
      "d            int      9\n",
      "f            int      10\n",
      "sumOfaAndb   int      8\n",
      "v            float    432.0\n",
      "x            int      3\n"
     ]
    }
   ],
   "source": [
    "%whos "
   ]
  },
  {
   "cell_type": "code",
   "execution_count": 16,
   "id": "4fa19ad8",
   "metadata": {},
   "outputs": [
    {
     "name": "stdout",
     "output_type": "stream",
     "text": [
      "True\n",
      "False\n",
      "False\n"
     ]
    }
   ],
   "source": [
    "print(a and b)\n",
    "print(a and c)\n",
    "print(c and a)"
   ]
  },
  {
   "cell_type": "code",
   "execution_count": 17,
   "id": "e05597a0",
   "metadata": {},
   "outputs": [
    {
     "name": "stdout",
     "output_type": "stream",
     "text": [
      "True\n"
     ]
    }
   ],
   "source": [
    "d = a or c\n",
    "print(d)"
   ]
  },
  {
   "cell_type": "code",
   "execution_count": 18,
   "id": "695d7ccc",
   "metadata": {},
   "outputs": [
    {
     "name": "stdout",
     "output_type": "stream",
     "text": [
      "True\n"
     ]
    }
   ],
   "source": [
    "print(2<3)  "
   ]
  },
  {
   "cell_type": "code",
   "execution_count": 19,
   "id": "fccee762",
   "metadata": {},
   "outputs": [],
   "source": [
    "x = 4\n",
    "y = 9\n",
    "z = 8.3\n",
    "r = -3"
   ]
  },
  {
   "cell_type": "code",
   "execution_count": 20,
   "id": "868e6184",
   "metadata": {},
   "outputs": [
    {
     "data": {
      "text/plain": [
       "True"
      ]
     },
     "execution_count": 20,
     "metadata": {},
     "output_type": "execute_result"
    }
   ],
   "source": [
    "(x<y) and (z<y) or (r==x)"
   ]
  },
  {
   "cell_type": "markdown",
   "id": "2ffea94f",
   "metadata": {},
   "source": [
    "# FUNCTIONS"
   ]
  },
  {
   "cell_type": "code",
   "execution_count": 1,
   "id": "698a21a8",
   "metadata": {},
   "outputs": [
    {
     "name": "stdout",
     "output_type": "stream",
     "text": [
      "5\n"
     ]
    }
   ],
   "source": [
    "print(round(4.556))"
   ]
  },
  {
   "cell_type": "code",
   "execution_count": 2,
   "id": "5ec1a8c1",
   "metadata": {},
   "outputs": [
    {
     "name": "stdout",
     "output_type": "stream",
     "text": [
      "4.56\n"
     ]
    }
   ],
   "source": [
    "print(round(4.556789,2))"
   ]
  },
  {
   "cell_type": "code",
   "execution_count": 3,
   "id": "0f721e7e",
   "metadata": {},
   "outputs": [
    {
     "data": {
      "text/plain": [
       "(3, 7)"
      ]
     },
     "execution_count": 3,
     "metadata": {},
     "output_type": "execute_result"
    }
   ],
   "source": [
    "divmod(34,9)"
   ]
  },
  {
   "cell_type": "code",
   "execution_count": 4,
   "id": "712feebe",
   "metadata": {},
   "outputs": [
    {
     "data": {
      "text/plain": [
       "True"
      ]
     },
     "execution_count": 4,
     "metadata": {},
     "output_type": "execute_result"
    }
   ],
   "source": [
    " isinstance(3,int)"
   ]
  },
  {
   "cell_type": "code",
   "execution_count": 5,
   "id": "3129cc8b",
   "metadata": {},
   "outputs": [
    {
     "name": "stdout",
     "output_type": "stream",
     "text": [
      "Enter a number74\n"
     ]
    }
   ],
   "source": [
    "x = input(\"Enter a number\")"
   ]
  },
  {
   "cell_type": "code",
   "execution_count": 6,
   "id": "6c22276a",
   "metadata": {},
   "outputs": [
    {
     "data": {
      "text/plain": [
       "str"
      ]
     },
     "execution_count": 6,
     "metadata": {},
     "output_type": "execute_result"
    }
   ],
   "source": [
    "type(x)"
   ]
  },
  {
   "cell_type": "code",
   "execution_count": 7,
   "id": "47b5232f",
   "metadata": {},
   "outputs": [
    {
     "name": "stdout",
     "output_type": "stream",
     "text": [
      "B\n"
     ]
    }
   ],
   "source": [
    "a = 1\n",
    "b = 5\n",
    "if a==b:\n",
    "    print(\"Equal\")\n",
    "elif a>b:\n",
    "    print(\"A\")\n",
    "else:\n",
    "    print(\"B\")"
   ]
  },
  {
   "cell_type": "code",
   "execution_count": 8,
   "id": "23a14758",
   "metadata": {},
   "outputs": [
    {
     "data": {
      "text/plain": [
       "-9"
      ]
     },
     "execution_count": 8,
     "metadata": {},
     "output_type": "execute_result"
    }
   ],
   "source": [
    "round(-9.3)"
   ]
  },
  {
   "cell_type": "code",
   "execution_count": 9,
   "id": "bbe22bef",
   "metadata": {},
   "outputs": [
    {
     "name": "stdout",
     "output_type": "stream",
     "text": [
      "5\n",
      "1\n",
      "This si iteration number : 1\n",
      "1\n",
      "This si iteration number : 2\n",
      "1\n",
      "This si iteration number : 3\n",
      "1\n",
      "This si iteration number : 4\n",
      "Loop done\n"
     ]
    }
   ],
   "source": [
    "n = int(input())\n",
    "i = 1\n",
    "while i < n:\n",
    "    print(1**2)\n",
    "    print(\"This si iteration number :\", i)\n",
    "    i+=1\n",
    "print(\"Loop done\")    "
   ]
  },
  {
   "cell_type": "code",
   "execution_count": 10,
   "id": "4ee78567",
   "metadata": {},
   "outputs": [
    {
     "name": "stdout",
     "output_type": "stream",
     "text": [
      "0\n",
      "2\n",
      "4\n",
      "6\n",
      "8\n",
      "[0, 4, 16, 36, 64]\n"
     ]
    }
   ],
   "source": [
    "L = []\n",
    "for i in range(0,10,2):\n",
    "    print(i)\n",
    "    L.append(i**2)\n",
    "print(L)    "
   ]
  },
  {
   "cell_type": "code",
   "execution_count": 3,
   "id": "8e4a7385",
   "metadata": {},
   "outputs": [
    {
     "name": "stdout",
     "output_type": "stream",
     "text": [
      "81\n"
     ]
    }
   ],
   "source": [
    "a = 3**4\n",
    "print(a)\n",
    "    "
   ]
  },
  {
   "cell_type": "code",
   "execution_count": 4,
   "id": "c106fcc2",
   "metadata": {},
   "outputs": [],
   "source": [
    "def f(a,b,c):\n",
    "    print(\"A is :\",a)\n",
    "    print(\"B is :\",b)\n",
    "    print(\"C is :\",c)"
   ]
  },
  {
   "cell_type": "code",
   "execution_count": 5,
   "id": "3ae54520",
   "metadata": {},
   "outputs": [
    {
     "name": "stdout",
     "output_type": "stream",
     "text": [
      "A is : 2\n",
      "B is : 3\n",
      "C is : game\n"
     ]
    }
   ],
   "source": [
    "f(2,3,\"game\")"
   ]
  },
  {
   "cell_type": "code",
   "execution_count": 2,
   "id": "c79c9e9d",
   "metadata": {},
   "outputs": [],
   "source": [
    "name = \"John Smith\"\n",
    "age = 20\n",
    "is_new = True"
   ]
  },
  {
   "cell_type": "markdown",
   "id": "0bd3aa69",
   "metadata": {},
   "source": [
    " #STRINGS"
   ]
  },
  {
   "cell_type": "code",
   "execution_count": 4,
   "id": "b078c9e1",
   "metadata": {},
   "outputs": [
    {
     "name": "stdout",
     "output_type": "stream",
     "text": [
      "Python for Beginners\n"
     ]
    }
   ],
   "source": [
    "course = \"Python for Beginners\"\n",
    "print(course)"
   ]
  },
  {
   "cell_type": "code",
   "execution_count": 5,
   "id": "50779877",
   "metadata": {},
   "outputs": [
    {
     "name": "stdout",
     "output_type": "stream",
     "text": [
      "P\n"
     ]
    }
   ],
   "source": [
    "print(course[0])"
   ]
  },
  {
   "cell_type": "code",
   "execution_count": 6,
   "id": "7817915f",
   "metadata": {},
   "outputs": [
    {
     "name": "stdout",
     "output_type": "stream",
     "text": [
      "e\n"
     ]
    }
   ],
   "source": [
    "print(course[-3])"
   ]
  },
  {
   "cell_type": "markdown",
   "id": "eca92f85",
   "metadata": {},
   "source": [
    "#formatted strings   "
   ]
  },
  {
   "cell_type": "code",
   "execution_count": 7,
   "id": "d93f3957",
   "metadata": {},
   "outputs": [
    {
     "name": "stdout",
     "output_type": "stream",
     "text": [
      "John[Smith] is a coder\n"
     ]
    }
   ],
   "source": [
    "first = 'John'\n",
    "last = 'Smith'\n",
    "message = first + '[' + last +'] is a coder'\n",
    "print(message)"
   ]
  },
  {
   "cell_type": "code",
   "execution_count": 8,
   "id": "6a9cf710",
   "metadata": {},
   "outputs": [
    {
     "name": "stdout",
     "output_type": "stream",
     "text": [
      "20\n"
     ]
    }
   ],
   "source": [
    "course = 'Python For Beginners'\n",
    "print(len(course))"
   ]
  },
  {
   "cell_type": "code",
   "execution_count": 9,
   "id": "eb0b1cd3",
   "metadata": {},
   "outputs": [
    {
     "name": "stdout",
     "output_type": "stream",
     "text": [
      "PYTHON FOR BEGINNERS\n"
     ]
    }
   ],
   "source": [
    "print(course.upper()) "
   ]
  },
  {
   "cell_type": "markdown",
   "id": "5b05a3ef",
   "metadata": {},
   "source": [
    " #len\n",
    " # String methods\n",
    " #course.upper() for converting a string to uppercase\n",
    " #course.lower()\n",
    " #course.title()\n",
    " #course.find()for indexing \n",
    " #course.replace()\n",
    " #In operator "
   ]
  },
  {
   "cell_type": "markdown",
   "id": "8d706e74",
   "metadata": {},
   "source": [
    "#ARITHMETIC OPERATORS"
   ]
  },
  {
   "cell_type": "code",
   "execution_count": 10,
   "id": "81000f28",
   "metadata": {},
   "outputs": [
    {
     "name": "stdout",
     "output_type": "stream",
     "text": [
      "16\n"
     ]
    }
   ],
   "source": [
    "p = 10 + 3 * 2\n",
    "print(p)"
   ]
  },
  {
   "cell_type": "code",
   "execution_count": 11,
   "id": "fa85fe46",
   "metadata": {},
   "outputs": [
    {
     "name": "stdout",
     "output_type": "stream",
     "text": [
      "3\n"
     ]
    }
   ],
   "source": [
    "x = 2.9\n",
    "print(round(x))"
   ]
  },
  {
   "cell_type": "markdown",
   "id": "23626c7f",
   "metadata": {},
   "source": [
    "#LOOPS"
   ]
  },
  {
   "cell_type": "code",
   "execution_count": 12,
   "id": "077dc910",
   "metadata": {},
   "outputs": [
    {
     "name": "stdout",
     "output_type": "stream",
     "text": [
      "It's a hot day\n",
      "Drink plenty of water\n",
      "Enjoy your day\n"
     ]
    }
   ],
   "source": [
    "is_hot = True\n",
    "if is_hot:\n",
    "    print(\"It's a hot day\")\n",
    "    print(\"Drink plenty of water\")\n",
    "print(\"Enjoy your day\")    \n",
    "    "
   ]
  },
  {
   "cell_type": "markdown",
   "id": "cd7b6cad",
   "metadata": {},
   "source": [
    " #NESTED LOOPS"
   ]
  },
  {
   "cell_type": "code",
   "execution_count": 2,
   "id": "1681fd04",
   "metadata": {},
   "outputs": [
    {
     "name": "stdout",
     "output_type": "stream",
     "text": [
      "(0, 0)\n",
      "(0, 1)\n",
      "(0, 2)\n",
      "(1, 0)\n",
      "(1, 1)\n",
      "(1, 2)\n",
      "(2, 0)\n",
      "(2, 1)\n",
      "(2, 2)\n",
      "(3, 0)\n",
      "(3, 1)\n",
      "(3, 2)\n"
     ]
    }
   ],
   "source": [
    "for x in range(4):\n",
    "   for y in range(3): \n",
    "    print(f'({x}, {y})')"
   ]
  },
  {
   "cell_type": "code",
   "execution_count": 3,
   "id": "1e2655c8",
   "metadata": {},
   "outputs": [
    {
     "name": "stdout",
     "output_type": "stream",
     "text": [
      "xxxxx\n",
      "xx\n",
      "xxxxx\n",
      "xx\n",
      "xx\n"
     ]
    }
   ],
   "source": [
    "numbers = [5, 2, 5, 2, 2]\n",
    "for x_count in numbers:\n",
    "    print('x' * x_count)\n",
    "       "
   ]
  },
  {
   "cell_type": "markdown",
   "id": "62dc0926",
   "metadata": {},
   "source": [
    "#Lists"
   ]
  },
  {
   "cell_type": "code",
   "execution_count": 4,
   "id": "9be9af96",
   "metadata": {},
   "outputs": [
    {
     "name": "stdout",
     "output_type": "stream",
     "text": [
      "John\n"
     ]
    }
   ],
   "source": [
    "names = ['John', 'Bob', 'Mary']\n",
    "print(names[0])"
   ]
  },
  {
   "cell_type": "code",
   "execution_count": 5,
   "id": "374d79ab",
   "metadata": {},
   "outputs": [
    {
     "name": "stdout",
     "output_type": "stream",
     "text": [
      "Mary\n"
     ]
    }
   ],
   "source": [
    "print(names[-1])"
   ]
  },
  {
   "cell_type": "code",
   "execution_count": 6,
   "id": "f5835995",
   "metadata": {},
   "outputs": [
    {
     "name": "stdout",
     "output_type": "stream",
     "text": [
      "10\n"
     ]
    }
   ],
   "source": [
    "numbers = [3,6,2,8,4,10] \n",
    "max = numbers[0]\n",
    "for number in numbers:\n",
    "    if number > max:\n",
    "        max = number\n",
    "print(max)"
   ]
  },
  {
   "cell_type": "code",
   "execution_count": 12,
   "id": "531ea79b",
   "metadata": {},
   "outputs": [
    {
     "name": "stdout",
     "output_type": "stream",
     "text": [
      "[5, 2, 1, 7, 4, 20]\n"
     ]
    }
   ],
   "source": [
    "numbers = [5, 2, 1, 7, 4]\n",
    "numbers.append(20)\n",
    "print(numbers)"
   ]
  },
  {
   "cell_type": "code",
   "execution_count": 13,
   "id": "5cb43303",
   "metadata": {},
   "outputs": [
    {
     "name": "stdout",
     "output_type": "stream",
     "text": [
      "[5, 30, 2, 1, 7, 4, 20]\n"
     ]
    }
   ],
   "source": [
    "numbers.insert(1,30)\n",
    "print(numbers)"
   ]
  },
  {
   "cell_type": "code",
   "execution_count": 15,
   "id": "b421e384",
   "metadata": {},
   "outputs": [
    {
     "name": "stdout",
     "output_type": "stream",
     "text": [
      "[5, 30, 2, 1, 7]\n"
     ]
    }
   ],
   "source": [
    "numbers.pop()\n",
    "print(numbers)\n"
   ]
  },
  {
   "cell_type": "code",
   "execution_count": 17,
   "id": "e04622ed",
   "metadata": {},
   "outputs": [
    {
     "name": "stdout",
     "output_type": "stream",
     "text": [
      "[2, 4, 6, 3, 1]\n"
     ]
    }
   ],
   "source": [
    "numbers = [2, 2, 4, 6, 3, 4, 6, 1]\n",
    "uniques = []\n",
    "for number in numbers:\n",
    "    if number not in uniques:\n",
    "        uniques.append(number)\n",
    "print(uniques)"
   ]
  },
  {
   "cell_type": "markdown",
   "id": "c6945d2c",
   "metadata": {},
   "source": [
    " #TUPLES"
   ]
  },
  {
   "cell_type": "code",
   "execution_count": 18,
   "id": "3729181c",
   "metadata": {},
   "outputs": [
    {
     "name": "stdout",
     "output_type": "stream",
     "text": [
      "2\n"
     ]
    }
   ],
   "source": [
    "cordinates = (1, 2, 3)\n",
    "x, y, z = cordinates\n",
    "print(y)"
   ]
  },
  {
   "cell_type": "markdown",
   "id": "521e5cc7",
   "metadata": {},
   "source": [
    "#DIC"
   ]
  },
  {
   "cell_type": "markdown",
   "id": "4e5d590b",
   "metadata": {},
   "source": [
    "#MATPLOTLIB"
   ]
  },
  {
   "cell_type": "code",
   "execution_count": 1,
   "id": "189f5a0d",
   "metadata": {},
   "outputs": [],
   "source": [
    "import matplotlib.pyplot as plt\n",
    "import numpy as np\n",
    "import pandas as pd"
   ]
  },
  {
   "cell_type": "markdown",
   "id": "a10e96e8",
   "metadata": {},
   "source": [
    "#Basic Graph"
   ]
  },
  {
   "cell_type": "code",
   "execution_count": 20,
   "id": "4b3acc0d",
   "metadata": {},
   "outputs": [
    {
     "data": {
      "image/png": "[encoded data removed]",
      "text/plain": [
       "<Figure size 432x288 with 1 Axes>"
      ]
     },
     "metadata": {
      "needs_background": "light"
     },
     "output_type": "display_data"
    }
   ],
   "source": [
    "x = [0,1,2,3,4,5]\n",
    "y = [0,2,4,6,8,10]\n",
    "plt.plot(x,y, label='2x', color='red', linewidth='2',marker='*',linestyle='--',markersize='10',markeredgecolor='blue')\n",
    "plt.title(\"Our first Graph\",fontdict={\"fontname\": \"Comic San MS\", \"fontsize\":20})\n",
    "plt.xlabel(\"X axis\")\n",
    "plt.ylabel(\"Y axis\")\n",
    "plt.xticks([0,1,2,3,4])\n",
    "plt.yticks([0,2,4,6,8,10])\n",
    "plt.legend()\n",
    "plt.show()"
   ]
  },
  {
   "cell_type": "code",
   "execution_count": null,
   "id": "37e6a378",
   "metadata": {},
   "outputs": [],
   "source": []
  }
 ],
 "metadata": {
  "kernelspec": {
   "display_name": "Python 3 (ipykernel)",
   "language": "python",
   "name": "python3"
  },
  "language_info": {
   "codemirror_mode": {
    "name": "ipython",
    "version": 3
   },
   "file_extension": ".py",
   "mimetype": "text/x-python",
   "name": "python",
   "nbconvert_exporter": "python",
   "pygments_lexer": "ipython3",
   "version": "3.9.7"
  }
 },
 "nbformat": 4,
 "nbformat_minor": 5
}
